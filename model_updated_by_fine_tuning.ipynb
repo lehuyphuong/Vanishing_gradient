{
  "nbformat": 4,
  "nbformat_minor": 0,
  "metadata": {
    "colab": {
      "provenance": [],
      "mount_file_id": "11wMUuW-z6FGyh57gCna7siOj1UPJdBBV",
      "authorship_tag": "ABX9TyPY0mNHCrEJu5s82yhDMnJc",
      "include_colab_link": true
    },
    "kernelspec": {
      "name": "python3",
      "display_name": "Python 3"
    },
    "language_info": {
      "name": "python"
    }
  },
  "cells": [
    {
      "cell_type": "markdown",
      "metadata": {
        "id": "view-in-github",
        "colab_type": "text"
      },
      "source": [
        "<a href=\"https://colab.research.google.com/github/lehuyphuong/Vanishing_gradient/blob/feature%2Fadd_solution_project_vanishing_gradient/model_updated_by_fine_tuning.ipynb\" target=\"_parent\"><img src=\"https://colab.research.google.com/assets/colab-badge.svg\" alt=\"Open In Colab\"/></a>"
      ]
    },
    {
      "cell_type": "markdown",
      "source": [
        "### Import library"
      ],
      "metadata": {
        "id": "AHf5TGR_ODqT"
      }
    },
    {
      "cell_type": "code",
      "source": [
        "import random\n",
        "import torch\n",
        "import torch.optim as optim\n",
        "import torchvision\n",
        "import torchvision.transforms as transforms\n",
        "from torch import nn\n",
        "from torch.utils.data import Dataset, DataLoader, random_split\n",
        "from torchvision.datasets import FashionMNIST\n",
        "import numpy as np\n",
        "import matplotlib.pyplot as plt"
      ],
      "metadata": {
        "id": "YbXMEdaGODfZ"
      },
      "execution_count": null,
      "outputs": []
    },
    {
      "cell_type": "markdown",
      "source": [
        "### Set up random seed"
      ],
      "metadata": {
        "id": "Yjh9LMldOJa-"
      }
    },
    {
      "cell_type": "code",
      "source": [
        "def set_seed(seed):\n",
        "    random.seed(seed)\n",
        "    np.random.seed(seed)\n",
        "    torch.manual_seed(seed)\n",
        "    torch.cuda.manual_seed(seed)\n",
        "    torch.cuda.manual_seed_all(seed)\n",
        "    torch.backends.cudnn.deterministic = True\n",
        "    torch.backends.cudnn.benchmark = False\n",
        "\n",
        "\n",
        "SEED = 42\n",
        "set_seed(SEED)"
      ],
      "metadata": {
        "id": "BBUK9NxWOJFN"
      },
      "execution_count": null,
      "outputs": []
    },
    {
      "cell_type": "markdown",
      "source": [
        "### Download dataset"
      ],
      "metadata": {
        "id": "4H0aMCCFN6LW"
      }
    },
    {
      "cell_type": "code",
      "execution_count": null,
      "metadata": {
        "id": "GnAqdJeHN4E1"
      },
      "outputs": [],
      "source": [
        "# download dataset\n",
        "train_dataset = FashionMNIST('/content/drive/MyDrive/AIO_2024/Module_5/Week_4/data', train=True,\n",
        "                             download=True,\n",
        "                             transform=transforms.ToTensor())\n",
        "\n",
        "test_dataset = FashionMNIST('/content/drive/MyDrive/AIO_2024/Module_5/Week_4/data', train=False,\n",
        "                            download=True,\n",
        "                            transform=transforms.ToTensor())\n"
      ]
    },
    {
      "cell_type": "markdown",
      "source": [
        "### Split dataset"
      ],
      "metadata": {
        "id": "rkvrX_plOOtL"
      }
    },
    {
      "cell_type": "code",
      "source": [
        "batch_size = 512\n",
        "\n",
        "\n",
        "train_ratio = 0.9\n",
        "train_size = int(len(train_dataset)*train_ratio)\n",
        "val_size = len(train_dataset) - train_size\n",
        "\n",
        "train_subnet, val_subnet = random_split(train_dataset, [train_size, val_size])\n",
        "train_loader = DataLoader(train_subnet, batch_size=batch_size, shuffle=True)\n",
        "\n",
        "val_loader = DataLoader(val_subnet, batch_size=batch_size, shuffle=False)\n",
        "test_loader = DataLoader(test_dataset, batch_size=batch_size, shuffle=False)\n",
        "\n",
        "print(f\"Train size: {len(train_subnet)}\")\n",
        "print(f\"Val size: {len(val_subnet)}\")\n",
        "print(f\"Test size: {len(test_dataset)}\")"
      ],
      "metadata": {
        "colab": {
          "base_uri": "https://localhost:8080/"
        },
        "id": "J2HmJf3eOR8v",
        "outputId": "8ca693f5-312e-4384-be40-d978c4f100a2"
      },
      "execution_count": null,
      "outputs": [
        {
          "output_type": "stream",
          "name": "stdout",
          "text": [
            "Train size: 54000\n",
            "Val size: 6000\n",
            "Test size: 10000\n"
          ]
        }
      ]
    },
    {
      "cell_type": "markdown",
      "source": [
        "### Define model"
      ],
      "metadata": {
        "id": "g5HC44eHOTrk"
      }
    },
    {
      "cell_type": "code",
      "source": [
        "device = torch.device('cuda:0' if torch.cuda.is_available() else 'cpu')"
      ],
      "metadata": {
        "id": "uSRVz1z5oO5t"
      },
      "execution_count": null,
      "outputs": []
    },
    {
      "cell_type": "markdown",
      "source": [
        "#### MLP_1layer"
      ],
      "metadata": {
        "id": "uTBrE8mFnd3r"
      }
    },
    {
      "cell_type": "code",
      "source": [
        "class MLP_1layer(nn.Module):\n",
        "  def __init__(self, input_dims, output_dims):\n",
        "    super(MLP_1layer, self).__init__()\n",
        "    self.layer1 = nn.Linear(input_dims, output_dims)\n",
        "\n",
        "    for module in self.modules():\n",
        "      if isinstance(module, nn.Linear):\n",
        "        nn.init.normal_(module.weight, mean=0.0, std=0.05)\n",
        "        nn.init.constant_(module.bias, 0.0)\n",
        "\n",
        "  def forward(self, x):\n",
        "    x = nn.Flatten()(x)\n",
        "    x = self.layer1(x)\n",
        "    x = nn.Sigmoid()(x)\n",
        "    return x"
      ],
      "metadata": {
        "id": "yDs1lAXcnj9b"
      },
      "execution_count": null,
      "outputs": []
    },
    {
      "cell_type": "markdown",
      "source": [
        "#### MLP_2layer"
      ],
      "metadata": {
        "id": "B7Bgffrnn8gA"
      }
    },
    {
      "cell_type": "code",
      "source": [
        "class MLP_2layer(nn.Module):\n",
        "  def __init__(self, input_dims, output_dims):\n",
        "    super(MLP_2layer, self).__init__()\n",
        "    self.layer1 = nn.Linear(input_dims, output_dims)\n",
        "    self.layer2 = nn.Linear(output_dims, output_dims)\n",
        "\n",
        "    for module in self.modules():\n",
        "      if isinstance(module, nn.Linear):\n",
        "        nn.init.normal_(module.weight, mean=0.0, std=1.0)\n",
        "        nn.init.constant_(module.bias, 0.0)\n",
        "\n",
        "  def forward(self, x):\n",
        "    x = nn.Flatten()(x)\n",
        "    x = self.layer1(x)\n",
        "    x = nn.Sigmoid()(x)\n",
        "    x = self.layer2(x)\n",
        "    x = nn.Sigmoid()(x)\n",
        "    return x"
      ],
      "metadata": {
        "id": "RkwPLl_Qn_UP"
      },
      "execution_count": null,
      "outputs": []
    },
    {
      "cell_type": "markdown",
      "source": [
        "### Train model"
      ],
      "metadata": {
        "id": "-btcv2x6OXuR"
      }
    },
    {
      "cell_type": "code",
      "source": [
        "first = MLP_2layer(input_dims=784, output_dims=128)\n",
        "second = MLP_2layer(input_dims=128, output_dims=128)\n",
        "third = MLP_2layer(input_dims=128, output_dims=128)\n",
        "fourth = MLP_1layer(input_dims=128, output_dims=128)\n",
        "\n",
        "lr = 1e-2\n",
        "criterion = nn.CrossEntropyLoss()"
      ],
      "metadata": {
        "id": "ENFG8TGjoz1X"
      },
      "execution_count": null,
      "outputs": []
    },
    {
      "cell_type": "markdown",
      "source": [
        "#### Stage 1"
      ],
      "metadata": {
        "id": "oaVg6jo6ovUj"
      }
    },
    {
      "cell_type": "code",
      "source": [
        "model = nn.Sequential(\n",
        "    first,\n",
        "    nn.Linear(128, 10)\n",
        ").to(device)\n",
        "optimizer = optim.SGD(model.parameters(), lr=lr)\n",
        "\n",
        "# train model\n",
        "epochs = 100\n",
        "train_loss_lst = []\n",
        "train_acc_lst = []\n",
        "val_loss_lst = []\n",
        "val_acc_lst = []\n",
        "for epoch in range(epochs):\n",
        "    train_loss = 0.0\n",
        "    train_acc = 0.0\n",
        "    count = 0\n",
        "\n",
        "    model.train()\n",
        "    for X_train, y_train in train_loader:\n",
        "        X_train, y_train = X_train.to(device), y_train.to(device)\n",
        "        optimizer.zero_grad()\n",
        "        outputs = model(X_train)\n",
        "        loss = criterion(outputs, y_train)\n",
        "        loss.backward()\n",
        "        optimizer.step()\n",
        "        train_loss += loss.item()\n",
        "        train_acc += (torch.argmax(outputs, 1) == y_train).sum().item()\n",
        "        count += len(y_train)\n",
        "\n",
        "    train_loss /= len(train_loader)\n",
        "    train_loss_lst.append(train_loss)\n",
        "\n",
        "    train_acc /= count\n",
        "    train_acc_lst.append(train_acc)\n",
        "\n",
        "    val_loss = 0.0\n",
        "    val_acc = 0.0\n",
        "    count = 0\n",
        "    model.eval()\n",
        "    with torch.no_grad():\n",
        "        for X_val, y_val in val_loader:\n",
        "            X_val, y_val = X_val.to(device), y_val.to(device)\n",
        "            outputs = model(X_val)\n",
        "            loss = criterion(outputs, y_val)\n",
        "            val_loss += loss.item()\n",
        "            val_acc += (torch.argmax(outputs, 1) == y_val).sum().item()\n",
        "            count += len(y_val)\n",
        "\n",
        "    val_loss /= len(val_loader)\n",
        "    val_loss_lst.append(val_loss)\n",
        "\n",
        "    val_acc /= count\n",
        "    val_acc_lst.append(val_acc)\n",
        "    print(f\"Epoch {epoch + 1} / {epochs}, train_loss: {train_loss: .4f}, train_acc:{train_acc: .4f}, validation loss: {val_loss: .4f}, val_acc: {val_acc: .4f}\")"
      ],
      "metadata": {
        "colab": {
          "base_uri": "https://localhost:8080/"
        },
        "id": "W9BiU4OFoTC_",
        "outputId": "337eef71-25a0-44c1-f8d1-96f43eec45bc"
      },
      "execution_count": null,
      "outputs": [
        {
          "output_type": "stream",
          "name": "stdout",
          "text": [
            "Epoch 1 / 100, train_loss:  2.2174, train_acc: 0.2609, validation loss:  2.1184, val_acc:  0.3790\n",
            "Epoch 2 / 100, train_loss:  2.0329, train_acc: 0.4701, validation loss:  1.9572, val_acc:  0.5188\n",
            "Epoch 3 / 100, train_loss:  1.8822, train_acc: 0.5511, validation loss:  1.8202, val_acc:  0.5573\n",
            "Epoch 4 / 100, train_loss:  1.7545, train_acc: 0.5831, validation loss:  1.7038, val_acc:  0.5892\n",
            "Epoch 5 / 100, train_loss:  1.6455, train_acc: 0.6057, validation loss:  1.6032, val_acc:  0.6067\n",
            "Epoch 6 / 100, train_loss:  1.5516, train_acc: 0.6213, validation loss:  1.5170, val_acc:  0.6163\n",
            "Epoch 7 / 100, train_loss:  1.4711, train_acc: 0.6317, validation loss:  1.4419, val_acc:  0.6343\n",
            "Epoch 8 / 100, train_loss:  1.4005, train_acc: 0.6436, validation loss:  1.3770, val_acc:  0.6427\n",
            "Epoch 9 / 100, train_loss:  1.3387, train_acc: 0.6539, validation loss:  1.3198, val_acc:  0.6437\n",
            "Epoch 10 / 100, train_loss:  1.2856, train_acc: 0.6599, validation loss:  1.2696, val_acc:  0.6528\n",
            "Epoch 11 / 100, train_loss:  1.2381, train_acc: 0.6678, validation loss:  1.2252, val_acc:  0.6623\n",
            "Epoch 12 / 100, train_loss:  1.1962, train_acc: 0.6737, validation loss:  1.1862, val_acc:  0.6693\n",
            "Epoch 13 / 100, train_loss:  1.1589, train_acc: 0.6787, validation loss:  1.1509, val_acc:  0.6725\n",
            "Epoch 14 / 100, train_loss:  1.1255, train_acc: 0.6839, validation loss:  1.1196, val_acc:  0.6732\n",
            "Epoch 15 / 100, train_loss:  1.0958, train_acc: 0.6869, validation loss:  1.0920, val_acc:  0.6772\n",
            "Epoch 16 / 100, train_loss:  1.0690, train_acc: 0.6904, validation loss:  1.0662, val_acc:  0.6827\n",
            "Epoch 17 / 100, train_loss:  1.0446, train_acc: 0.6935, validation loss:  1.0435, val_acc:  0.6872\n",
            "Epoch 18 / 100, train_loss:  1.0231, train_acc: 0.6959, validation loss:  1.0227, val_acc:  0.6880\n",
            "Epoch 19 / 100, train_loss:  1.0031, train_acc: 0.6983, validation loss:  1.0039, val_acc:  0.6918\n",
            "Epoch 20 / 100, train_loss:  0.9849, train_acc: 0.7013, validation loss:  0.9869, val_acc:  0.6920\n",
            "Epoch 21 / 100, train_loss:  0.9684, train_acc: 0.7030, validation loss:  0.9707, val_acc:  0.6973\n",
            "Epoch 22 / 100, train_loss:  0.9527, train_acc: 0.7060, validation loss:  0.9561, val_acc:  0.6997\n",
            "Epoch 23 / 100, train_loss:  0.9384, train_acc: 0.7073, validation loss:  0.9428, val_acc:  0.7017\n",
            "Epoch 24 / 100, train_loss:  0.9254, train_acc: 0.7100, validation loss:  0.9304, val_acc:  0.7030\n",
            "Epoch 25 / 100, train_loss:  0.9131, train_acc: 0.7114, validation loss:  0.9185, val_acc:  0.7055\n",
            "Epoch 26 / 100, train_loss:  0.9021, train_acc: 0.7133, validation loss:  0.9077, val_acc:  0.7078\n",
            "Epoch 27 / 100, train_loss:  0.8922, train_acc: 0.7154, validation loss:  0.8979, val_acc:  0.7097\n",
            "Epoch 28 / 100, train_loss:  0.8820, train_acc: 0.7166, validation loss:  0.8884, val_acc:  0.7098\n",
            "Epoch 29 / 100, train_loss:  0.8726, train_acc: 0.7178, validation loss:  0.8792, val_acc:  0.7130\n",
            "Epoch 30 / 100, train_loss:  0.8638, train_acc: 0.7196, validation loss:  0.8711, val_acc:  0.7142\n",
            "Epoch 31 / 100, train_loss:  0.8557, train_acc: 0.7213, validation loss:  0.8633, val_acc:  0.7163\n",
            "Epoch 32 / 100, train_loss:  0.8481, train_acc: 0.7226, validation loss:  0.8558, val_acc:  0.7163\n",
            "Epoch 33 / 100, train_loss:  0.8407, train_acc: 0.7239, validation loss:  0.8487, val_acc:  0.7188\n",
            "Epoch 34 / 100, train_loss:  0.8333, train_acc: 0.7254, validation loss:  0.8419, val_acc:  0.7197\n",
            "Epoch 35 / 100, train_loss:  0.8268, train_acc: 0.7270, validation loss:  0.8355, val_acc:  0.7230\n",
            "Epoch 36 / 100, train_loss:  0.8205, train_acc: 0.7282, validation loss:  0.8295, val_acc:  0.7215\n",
            "Epoch 37 / 100, train_loss:  0.8147, train_acc: 0.7292, validation loss:  0.8235, val_acc:  0.7243\n",
            "Epoch 38 / 100, train_loss:  0.8092, train_acc: 0.7307, validation loss:  0.8182, val_acc:  0.7232\n",
            "Epoch 39 / 100, train_loss:  0.8031, train_acc: 0.7316, validation loss:  0.8128, val_acc:  0.7250\n",
            "Epoch 40 / 100, train_loss:  0.7992, train_acc: 0.7325, validation loss:  0.8077, val_acc:  0.7263\n",
            "Epoch 41 / 100, train_loss:  0.7932, train_acc: 0.7339, validation loss:  0.8029, val_acc:  0.7273\n",
            "Epoch 42 / 100, train_loss:  0.7885, train_acc: 0.7351, validation loss:  0.7981, val_acc:  0.7288\n",
            "Epoch 43 / 100, train_loss:  0.7834, train_acc: 0.7360, validation loss:  0.7937, val_acc:  0.7292\n",
            "Epoch 44 / 100, train_loss:  0.7790, train_acc: 0.7368, validation loss:  0.7892, val_acc:  0.7300\n",
            "Epoch 45 / 100, train_loss:  0.7749, train_acc: 0.7376, validation loss:  0.7851, val_acc:  0.7303\n",
            "Epoch 46 / 100, train_loss:  0.7706, train_acc: 0.7385, validation loss:  0.7810, val_acc:  0.7305\n",
            "Epoch 47 / 100, train_loss:  0.7665, train_acc: 0.7396, validation loss:  0.7771, val_acc:  0.7322\n",
            "Epoch 48 / 100, train_loss:  0.7624, train_acc: 0.7401, validation loss:  0.7731, val_acc:  0.7320\n",
            "Epoch 49 / 100, train_loss:  0.7585, train_acc: 0.7412, validation loss:  0.7695, val_acc:  0.7327\n",
            "Epoch 50 / 100, train_loss:  0.7553, train_acc: 0.7423, validation loss:  0.7661, val_acc:  0.7342\n",
            "Epoch 51 / 100, train_loss:  0.7513, train_acc: 0.7428, validation loss:  0.7625, val_acc:  0.7350\n",
            "Epoch 52 / 100, train_loss:  0.7476, train_acc: 0.7436, validation loss:  0.7593, val_acc:  0.7352\n",
            "Epoch 53 / 100, train_loss:  0.7448, train_acc: 0.7442, validation loss:  0.7561, val_acc:  0.7370\n",
            "Epoch 54 / 100, train_loss:  0.7413, train_acc: 0.7452, validation loss:  0.7529, val_acc:  0.7373\n",
            "Epoch 55 / 100, train_loss:  0.7385, train_acc: 0.7464, validation loss:  0.7500, val_acc:  0.7385\n",
            "Epoch 56 / 100, train_loss:  0.7353, train_acc: 0.7468, validation loss:  0.7469, val_acc:  0.7395\n",
            "Epoch 57 / 100, train_loss:  0.7318, train_acc: 0.7477, validation loss:  0.7442, val_acc:  0.7407\n",
            "Epoch 58 / 100, train_loss:  0.7294, train_acc: 0.7487, validation loss:  0.7413, val_acc:  0.7417\n",
            "Epoch 59 / 100, train_loss:  0.7258, train_acc: 0.7494, validation loss:  0.7385, val_acc:  0.7420\n",
            "Epoch 60 / 100, train_loss:  0.7233, train_acc: 0.7501, validation loss:  0.7358, val_acc:  0.7433\n",
            "Epoch 61 / 100, train_loss:  0.7204, train_acc: 0.7511, validation loss:  0.7333, val_acc:  0.7432\n",
            "Epoch 62 / 100, train_loss:  0.7176, train_acc: 0.7515, validation loss:  0.7307, val_acc:  0.7448\n",
            "Epoch 63 / 100, train_loss:  0.7158, train_acc: 0.7525, validation loss:  0.7284, val_acc:  0.7455\n",
            "Epoch 64 / 100, train_loss:  0.7123, train_acc: 0.7528, validation loss:  0.7261, val_acc:  0.7460\n",
            "Epoch 65 / 100, train_loss:  0.7104, train_acc: 0.7531, validation loss:  0.7236, val_acc:  0.7460\n",
            "Epoch 66 / 100, train_loss:  0.7079, train_acc: 0.7542, validation loss:  0.7213, val_acc:  0.7470\n",
            "Epoch 67 / 100, train_loss:  0.7052, train_acc: 0.7551, validation loss:  0.7192, val_acc:  0.7480\n",
            "Epoch 68 / 100, train_loss:  0.7034, train_acc: 0.7556, validation loss:  0.7172, val_acc:  0.7478\n",
            "Epoch 69 / 100, train_loss:  0.7007, train_acc: 0.7567, validation loss:  0.7150, val_acc:  0.7477\n",
            "Epoch 70 / 100, train_loss:  0.6992, train_acc: 0.7571, validation loss:  0.7130, val_acc:  0.7477\n",
            "Epoch 71 / 100, train_loss:  0.6962, train_acc: 0.7578, validation loss:  0.7108, val_acc:  0.7490\n",
            "Epoch 72 / 100, train_loss:  0.6948, train_acc: 0.7582, validation loss:  0.7087, val_acc:  0.7495\n",
            "Epoch 73 / 100, train_loss:  0.6923, train_acc: 0.7590, validation loss:  0.7068, val_acc:  0.7490\n",
            "Epoch 74 / 100, train_loss:  0.6905, train_acc: 0.7594, validation loss:  0.7051, val_acc:  0.7500\n",
            "Epoch 75 / 100, train_loss:  0.6883, train_acc: 0.7603, validation loss:  0.7033, val_acc:  0.7508\n",
            "Epoch 76 / 100, train_loss:  0.6863, train_acc: 0.7605, validation loss:  0.7014, val_acc:  0.7508\n",
            "Epoch 77 / 100, train_loss:  0.6840, train_acc: 0.7611, validation loss:  0.6997, val_acc:  0.7518\n",
            "Epoch 78 / 100, train_loss:  0.6827, train_acc: 0.7616, validation loss:  0.6978, val_acc:  0.7525\n",
            "Epoch 79 / 100, train_loss:  0.6810, train_acc: 0.7623, validation loss:  0.6962, val_acc:  0.7522\n",
            "Epoch 80 / 100, train_loss:  0.6792, train_acc: 0.7627, validation loss:  0.6946, val_acc:  0.7538\n",
            "Epoch 81 / 100, train_loss:  0.6772, train_acc: 0.7631, validation loss:  0.6928, val_acc:  0.7538\n",
            "Epoch 82 / 100, train_loss:  0.6758, train_acc: 0.7637, validation loss:  0.6911, val_acc:  0.7550\n",
            "Epoch 83 / 100, train_loss:  0.6737, train_acc: 0.7646, validation loss:  0.6896, val_acc:  0.7548\n",
            "Epoch 84 / 100, train_loss:  0.6723, train_acc: 0.7656, validation loss:  0.6881, val_acc:  0.7563\n",
            "Epoch 85 / 100, train_loss:  0.6707, train_acc: 0.7659, validation loss:  0.6866, val_acc:  0.7565\n",
            "Epoch 86 / 100, train_loss:  0.6690, train_acc: 0.7659, validation loss:  0.6850, val_acc:  0.7563\n",
            "Epoch 87 / 100, train_loss:  0.6677, train_acc: 0.7665, validation loss:  0.6835, val_acc:  0.7570\n",
            "Epoch 88 / 100, train_loss:  0.6655, train_acc: 0.7668, validation loss:  0.6821, val_acc:  0.7577\n",
            "Epoch 89 / 100, train_loss:  0.6642, train_acc: 0.7676, validation loss:  0.6806, val_acc:  0.7575\n",
            "Epoch 90 / 100, train_loss:  0.6622, train_acc: 0.7678, validation loss:  0.6793, val_acc:  0.7570\n",
            "Epoch 91 / 100, train_loss:  0.6607, train_acc: 0.7685, validation loss:  0.6779, val_acc:  0.7585\n",
            "Epoch 92 / 100, train_loss:  0.6596, train_acc: 0.7691, validation loss:  0.6765, val_acc:  0.7578\n",
            "Epoch 93 / 100, train_loss:  0.6578, train_acc: 0.7694, validation loss:  0.6751, val_acc:  0.7590\n",
            "Epoch 94 / 100, train_loss:  0.6567, train_acc: 0.7698, validation loss:  0.6739, val_acc:  0.7587\n",
            "Epoch 95 / 100, train_loss:  0.6551, train_acc: 0.7703, validation loss:  0.6725, val_acc:  0.7587\n",
            "Epoch 96 / 100, train_loss:  0.6534, train_acc: 0.7703, validation loss:  0.6712, val_acc:  0.7605\n",
            "Epoch 97 / 100, train_loss:  0.6519, train_acc: 0.7706, validation loss:  0.6701, val_acc:  0.7607\n",
            "Epoch 98 / 100, train_loss:  0.6510, train_acc: 0.7715, validation loss:  0.6688, val_acc:  0.7613\n",
            "Epoch 99 / 100, train_loss:  0.6496, train_acc: 0.7718, validation loss:  0.6676, val_acc:  0.7618\n",
            "Epoch 100 / 100, train_loss:  0.6485, train_acc: 0.7719, validation loss:  0.6665, val_acc:  0.7628\n"
          ]
        }
      ]
    },
    {
      "cell_type": "markdown",
      "source": [
        "#### Stage 2"
      ],
      "metadata": {
        "id": "KUyTRe57pUa7"
      }
    },
    {
      "cell_type": "code",
      "source": [
        "for param in first.parameters():\n",
        "  param.requires_grad = False\n",
        "\n",
        "model = nn.Sequential(\n",
        "    first,\n",
        "    second,\n",
        "    nn.Linear(128, 10)\n",
        ").to(device)\n",
        "optimizer = optim.SGD(model.parameters(), lr=lr)\n",
        "\n",
        "# train model\n",
        "epochs = 100\n",
        "train_loss_lst = []\n",
        "train_acc_lst = []\n",
        "val_loss_lst = []\n",
        "val_acc_lst = []\n",
        "for epoch in range(epochs):\n",
        "    train_loss = 0.0\n",
        "    train_acc = 0.0\n",
        "    count = 0\n",
        "\n",
        "    model.train()\n",
        "    for X_train, y_train in train_loader:\n",
        "        X_train, y_train = X_train.to(device), y_train.to(device)\n",
        "        optimizer.zero_grad()\n",
        "        outputs = model(X_train)\n",
        "        loss = criterion(outputs, y_train)\n",
        "        loss.backward()\n",
        "        optimizer.step()\n",
        "        train_loss += loss.item()\n",
        "        train_acc += (torch.argmax(outputs, 1) == y_train).sum().item()\n",
        "        count += len(y_train)\n",
        "\n",
        "    train_loss /= len(train_loader)\n",
        "    train_loss_lst.append(train_loss)\n",
        "\n",
        "    train_acc /= count\n",
        "    train_acc_lst.append(train_acc)\n",
        "\n",
        "    val_loss = 0.0\n",
        "    val_acc = 0.0\n",
        "    count = 0\n",
        "    model.eval()\n",
        "    with torch.no_grad():\n",
        "        for X_val, y_val in val_loader:\n",
        "            X_val, y_val = X_val.to(device), y_val.to(device)\n",
        "            outputs = model(X_val)\n",
        "            loss = criterion(outputs, y_val)\n",
        "            val_loss += loss.item()\n",
        "            val_acc += (torch.argmax(outputs, 1) == y_val).sum().item()\n",
        "            count += len(y_val)\n",
        "\n",
        "    val_loss /= len(val_loader)\n",
        "    val_loss_lst.append(val_loss)\n",
        "\n",
        "    val_acc /= count\n",
        "    val_acc_lst.append(val_acc)\n",
        "    print(f\"Epoch {epoch + 1} / {epochs}, train_loss: {train_loss: .4f}, train_acc:{train_acc: .4f}, validation loss: {val_loss: .4f}, val_acc: {val_acc: .4f}\")"
      ],
      "metadata": {
        "colab": {
          "base_uri": "https://localhost:8080/"
        },
        "id": "omkerPLXpV0d",
        "outputId": "da0edf1a-782c-4ba1-ef1c-197a3304c771"
      },
      "execution_count": null,
      "outputs": [
        {
          "output_type": "stream",
          "name": "stdout",
          "text": [
            "Epoch 1 / 100, train_loss:  2.2632, train_acc: 0.1926, validation loss:  2.2056, val_acc:  0.3237\n",
            "Epoch 2 / 100, train_loss:  2.1516, train_acc: 0.4008, validation loss:  2.1016, val_acc:  0.4448\n",
            "Epoch 3 / 100, train_loss:  2.0502, train_acc: 0.4800, validation loss:  2.0035, val_acc:  0.5093\n",
            "Epoch 4 / 100, train_loss:  1.9535, train_acc: 0.5197, validation loss:  1.9094, val_acc:  0.5258\n",
            "Epoch 5 / 100, train_loss:  1.8615, train_acc: 0.5427, validation loss:  1.8205, val_acc:  0.5542\n",
            "Epoch 6 / 100, train_loss:  1.7746, train_acc: 0.5623, validation loss:  1.7360, val_acc:  0.5737\n",
            "Epoch 7 / 100, train_loss:  1.6931, train_acc: 0.5786, validation loss:  1.6581, val_acc:  0.5807\n",
            "Epoch 8 / 100, train_loss:  1.6174, train_acc: 0.5912, validation loss:  1.5860, val_acc:  0.5952\n",
            "Epoch 9 / 100, train_loss:  1.5483, train_acc: 0.6018, validation loss:  1.5209, val_acc:  0.6102\n",
            "Epoch 10 / 100, train_loss:  1.4856, train_acc: 0.6138, validation loss:  1.4615, val_acc:  0.6147\n",
            "Epoch 11 / 100, train_loss:  1.4295, train_acc: 0.6192, validation loss:  1.4084, val_acc:  0.6270\n",
            "Epoch 12 / 100, train_loss:  1.3789, train_acc: 0.6280, validation loss:  1.3614, val_acc:  0.6298\n",
            "Epoch 13 / 100, train_loss:  1.3339, train_acc: 0.6327, validation loss:  1.3189, val_acc:  0.6355\n",
            "Epoch 14 / 100, train_loss:  1.2942, train_acc: 0.6386, validation loss:  1.2815, val_acc:  0.6405\n",
            "Epoch 15 / 100, train_loss:  1.2580, train_acc: 0.6446, validation loss:  1.2483, val_acc:  0.6423\n",
            "Epoch 16 / 100, train_loss:  1.2255, train_acc: 0.6476, validation loss:  1.2175, val_acc:  0.6465\n",
            "Epoch 17 / 100, train_loss:  1.1962, train_acc: 0.6519, validation loss:  1.1901, val_acc:  0.6495\n",
            "Epoch 18 / 100, train_loss:  1.1701, train_acc: 0.6560, validation loss:  1.1652, val_acc:  0.6562\n",
            "Epoch 19 / 100, train_loss:  1.1463, train_acc: 0.6593, validation loss:  1.1426, val_acc:  0.6568\n",
            "Epoch 20 / 100, train_loss:  1.1244, train_acc: 0.6619, validation loss:  1.1216, val_acc:  0.6650\n",
            "Epoch 21 / 100, train_loss:  1.1046, train_acc: 0.6647, validation loss:  1.1030, val_acc:  0.6663\n",
            "Epoch 22 / 100, train_loss:  1.0866, train_acc: 0.6674, validation loss:  1.0858, val_acc:  0.6672\n",
            "Epoch 23 / 100, train_loss:  1.0698, train_acc: 0.6700, validation loss:  1.0699, val_acc:  0.6717\n",
            "Epoch 24 / 100, train_loss:  1.0547, train_acc: 0.6723, validation loss:  1.0551, val_acc:  0.6702\n",
            "Epoch 25 / 100, train_loss:  1.0404, train_acc: 0.6750, validation loss:  1.0415, val_acc:  0.6732\n",
            "Epoch 26 / 100, train_loss:  1.0269, train_acc: 0.6771, validation loss:  1.0288, val_acc:  0.6728\n",
            "Epoch 27 / 100, train_loss:  1.0145, train_acc: 0.6792, validation loss:  1.0167, val_acc:  0.6775\n",
            "Epoch 28 / 100, train_loss:  1.0031, train_acc: 0.6812, validation loss:  1.0058, val_acc:  0.6798\n",
            "Epoch 29 / 100, train_loss:  0.9929, train_acc: 0.6834, validation loss:  0.9954, val_acc:  0.6808\n",
            "Epoch 30 / 100, train_loss:  0.9824, train_acc: 0.6849, validation loss:  0.9858, val_acc:  0.6832\n",
            "Epoch 31 / 100, train_loss:  0.9727, train_acc: 0.6866, validation loss:  0.9768, val_acc:  0.6855\n",
            "Epoch 32 / 100, train_loss:  0.9640, train_acc: 0.6876, validation loss:  0.9681, val_acc:  0.6865\n",
            "Epoch 33 / 100, train_loss:  0.9561, train_acc: 0.6887, validation loss:  0.9599, val_acc:  0.6885\n",
            "Epoch 34 / 100, train_loss:  0.9475, train_acc: 0.6905, validation loss:  0.9520, val_acc:  0.6910\n",
            "Epoch 35 / 100, train_loss:  0.9400, train_acc: 0.6924, validation loss:  0.9448, val_acc:  0.6923\n",
            "Epoch 36 / 100, train_loss:  0.9330, train_acc: 0.6934, validation loss:  0.9380, val_acc:  0.6937\n",
            "Epoch 37 / 100, train_loss:  0.9263, train_acc: 0.6941, validation loss:  0.9312, val_acc:  0.6935\n",
            "Epoch 38 / 100, train_loss:  0.9196, train_acc: 0.6960, validation loss:  0.9250, val_acc:  0.6947\n",
            "Epoch 39 / 100, train_loss:  0.9133, train_acc: 0.6971, validation loss:  0.9187, val_acc:  0.6975\n",
            "Epoch 40 / 100, train_loss:  0.9077, train_acc: 0.6986, validation loss:  0.9132, val_acc:  0.6975\n",
            "Epoch 41 / 100, train_loss:  0.9018, train_acc: 0.6995, validation loss:  0.9077, val_acc:  0.6995\n",
            "Epoch 42 / 100, train_loss:  0.8965, train_acc: 0.7004, validation loss:  0.9023, val_acc:  0.7008\n",
            "Epoch 43 / 100, train_loss:  0.8911, train_acc: 0.7013, validation loss:  0.8974, val_acc:  0.7017\n",
            "Epoch 44 / 100, train_loss:  0.8865, train_acc: 0.7025, validation loss:  0.8925, val_acc:  0.7025\n",
            "Epoch 45 / 100, train_loss:  0.8815, train_acc: 0.7041, validation loss:  0.8879, val_acc:  0.7035\n",
            "Epoch 46 / 100, train_loss:  0.8773, train_acc: 0.7046, validation loss:  0.8834, val_acc:  0.7052\n",
            "Epoch 47 / 100, train_loss:  0.8730, train_acc: 0.7057, validation loss:  0.8790, val_acc:  0.7048\n",
            "Epoch 48 / 100, train_loss:  0.8686, train_acc: 0.7061, validation loss:  0.8748, val_acc:  0.7058\n",
            "Epoch 49 / 100, train_loss:  0.8648, train_acc: 0.7072, validation loss:  0.8707, val_acc:  0.7060\n",
            "Epoch 50 / 100, train_loss:  0.8609, train_acc: 0.7085, validation loss:  0.8670, val_acc:  0.7065\n",
            "Epoch 51 / 100, train_loss:  0.8570, train_acc: 0.7091, validation loss:  0.8632, val_acc:  0.7073\n",
            "Epoch 52 / 100, train_loss:  0.8526, train_acc: 0.7100, validation loss:  0.8597, val_acc:  0.7085\n",
            "Epoch 53 / 100, train_loss:  0.8495, train_acc: 0.7105, validation loss:  0.8561, val_acc:  0.7095\n",
            "Epoch 54 / 100, train_loss:  0.8462, train_acc: 0.7115, validation loss:  0.8529, val_acc:  0.7107\n",
            "Epoch 55 / 100, train_loss:  0.8426, train_acc: 0.7119, validation loss:  0.8498, val_acc:  0.7103\n",
            "Epoch 56 / 100, train_loss:  0.8400, train_acc: 0.7133, validation loss:  0.8465, val_acc:  0.7113\n",
            "Epoch 57 / 100, train_loss:  0.8368, train_acc: 0.7136, validation loss:  0.8434, val_acc:  0.7133\n",
            "Epoch 58 / 100, train_loss:  0.8332, train_acc: 0.7145, validation loss:  0.8403, val_acc:  0.7128\n",
            "Epoch 59 / 100, train_loss:  0.8305, train_acc: 0.7150, validation loss:  0.8374, val_acc:  0.7138\n",
            "Epoch 60 / 100, train_loss:  0.8282, train_acc: 0.7153, validation loss:  0.8347, val_acc:  0.7143\n",
            "Epoch 61 / 100, train_loss:  0.8247, train_acc: 0.7161, validation loss:  0.8322, val_acc:  0.7148\n",
            "Epoch 62 / 100, train_loss:  0.8223, train_acc: 0.7167, validation loss:  0.8294, val_acc:  0.7158\n",
            "Epoch 63 / 100, train_loss:  0.8196, train_acc: 0.7178, validation loss:  0.8267, val_acc:  0.7155\n",
            "Epoch 64 / 100, train_loss:  0.8174, train_acc: 0.7179, validation loss:  0.8242, val_acc:  0.7168\n",
            "Epoch 65 / 100, train_loss:  0.8149, train_acc: 0.7189, validation loss:  0.8217, val_acc:  0.7177\n",
            "Epoch 66 / 100, train_loss:  0.8120, train_acc: 0.7190, validation loss:  0.8194, val_acc:  0.7177\n",
            "Epoch 67 / 100, train_loss:  0.8104, train_acc: 0.7195, validation loss:  0.8172, val_acc:  0.7185\n",
            "Epoch 68 / 100, train_loss:  0.8075, train_acc: 0.7203, validation loss:  0.8148, val_acc:  0.7188\n",
            "Epoch 69 / 100, train_loss:  0.8053, train_acc: 0.7207, validation loss:  0.8127, val_acc:  0.7195\n",
            "Epoch 70 / 100, train_loss:  0.8029, train_acc: 0.7213, validation loss:  0.8107, val_acc:  0.7193\n",
            "Epoch 71 / 100, train_loss:  0.8005, train_acc: 0.7215, validation loss:  0.8084, val_acc:  0.7208\n",
            "Epoch 72 / 100, train_loss:  0.7992, train_acc: 0.7229, validation loss:  0.8066, val_acc:  0.7195\n",
            "Epoch 73 / 100, train_loss:  0.7966, train_acc: 0.7226, validation loss:  0.8045, val_acc:  0.7218\n",
            "Epoch 74 / 100, train_loss:  0.7946, train_acc: 0.7234, validation loss:  0.8025, val_acc:  0.7232\n",
            "Epoch 75 / 100, train_loss:  0.7929, train_acc: 0.7241, validation loss:  0.8005, val_acc:  0.7242\n",
            "Epoch 76 / 100, train_loss:  0.7913, train_acc: 0.7244, validation loss:  0.7987, val_acc:  0.7243\n",
            "Epoch 77 / 100, train_loss:  0.7892, train_acc: 0.7253, validation loss:  0.7968, val_acc:  0.7248\n",
            "Epoch 78 / 100, train_loss:  0.7869, train_acc: 0.7254, validation loss:  0.7953, val_acc:  0.7253\n",
            "Epoch 79 / 100, train_loss:  0.7853, train_acc: 0.7256, validation loss:  0.7935, val_acc:  0.7247\n",
            "Epoch 80 / 100, train_loss:  0.7836, train_acc: 0.7264, validation loss:  0.7917, val_acc:  0.7257\n",
            "Epoch 81 / 100, train_loss:  0.7824, train_acc: 0.7269, validation loss:  0.7901, val_acc:  0.7257\n",
            "Epoch 82 / 100, train_loss:  0.7801, train_acc: 0.7277, validation loss:  0.7884, val_acc:  0.7255\n",
            "Epoch 83 / 100, train_loss:  0.7787, train_acc: 0.7277, validation loss:  0.7869, val_acc:  0.7265\n",
            "Epoch 84 / 100, train_loss:  0.7767, train_acc: 0.7280, validation loss:  0.7853, val_acc:  0.7263\n",
            "Epoch 85 / 100, train_loss:  0.7754, train_acc: 0.7288, validation loss:  0.7838, val_acc:  0.7265\n",
            "Epoch 86 / 100, train_loss:  0.7740, train_acc: 0.7293, validation loss:  0.7822, val_acc:  0.7275\n",
            "Epoch 87 / 100, train_loss:  0.7730, train_acc: 0.7296, validation loss:  0.7810, val_acc:  0.7268\n",
            "Epoch 88 / 100, train_loss:  0.7709, train_acc: 0.7299, validation loss:  0.7795, val_acc:  0.7285\n",
            "Epoch 89 / 100, train_loss:  0.7700, train_acc: 0.7302, validation loss:  0.7780, val_acc:  0.7278\n",
            "Epoch 90 / 100, train_loss:  0.7675, train_acc: 0.7305, validation loss:  0.7766, val_acc:  0.7278\n",
            "Epoch 91 / 100, train_loss:  0.7663, train_acc: 0.7307, validation loss:  0.7752, val_acc:  0.7288\n",
            "Epoch 92 / 100, train_loss:  0.7649, train_acc: 0.7311, validation loss:  0.7740, val_acc:  0.7287\n",
            "Epoch 93 / 100, train_loss:  0.7637, train_acc: 0.7318, validation loss:  0.7726, val_acc:  0.7292\n",
            "Epoch 94 / 100, train_loss:  0.7623, train_acc: 0.7312, validation loss:  0.7713, val_acc:  0.7290\n",
            "Epoch 95 / 100, train_loss:  0.7613, train_acc: 0.7316, validation loss:  0.7701, val_acc:  0.7293\n",
            "Epoch 96 / 100, train_loss:  0.7593, train_acc: 0.7323, validation loss:  0.7689, val_acc:  0.7290\n",
            "Epoch 97 / 100, train_loss:  0.7582, train_acc: 0.7326, validation loss:  0.7678, val_acc:  0.7292\n",
            "Epoch 98 / 100, train_loss:  0.7571, train_acc: 0.7327, validation loss:  0.7666, val_acc:  0.7308\n",
            "Epoch 99 / 100, train_loss:  0.7561, train_acc: 0.7333, validation loss:  0.7653, val_acc:  0.7305\n",
            "Epoch 100 / 100, train_loss:  0.7547, train_acc: 0.7334, validation loss:  0.7642, val_acc:  0.7315\n"
          ]
        }
      ]
    },
    {
      "cell_type": "markdown",
      "source": [
        "#### Stage 3"
      ],
      "metadata": {
        "id": "7EkAh3O3puiT"
      }
    },
    {
      "cell_type": "code",
      "source": [
        "for param in first.parameters():\n",
        "  param.requires_grad = False\n",
        "for param in second.parameters():\n",
        "  param.requires_grad = False\n",
        "\n",
        "model = nn.Sequential(\n",
        "    first,\n",
        "    second,\n",
        "    third,\n",
        "    nn.Linear(128, 10)\n",
        ").to(device)\n",
        "optimizer = optim.SGD(model.parameters(), lr=lr)\n",
        "\n",
        "# train model\n",
        "epochs = 100\n",
        "train_loss_lst = []\n",
        "train_acc_lst = []\n",
        "val_loss_lst = []\n",
        "val_acc_lst = []\n",
        "for epoch in range(epochs):\n",
        "    train_loss = 0.0\n",
        "    train_acc = 0.0\n",
        "    count = 0\n",
        "\n",
        "    model.train()\n",
        "    for X_train, y_train in train_loader:\n",
        "        X_train, y_train = X_train.to(device), y_train.to(device)\n",
        "        optimizer.zero_grad()\n",
        "        outputs = model(X_train)\n",
        "        loss = criterion(outputs, y_train)\n",
        "        loss.backward()\n",
        "        optimizer.step()\n",
        "        train_loss += loss.item()\n",
        "        train_acc += (torch.argmax(outputs, 1) == y_train).sum().item()\n",
        "        count += len(y_train)\n",
        "\n",
        "    train_loss /= len(train_loader)\n",
        "    train_loss_lst.append(train_loss)\n",
        "\n",
        "    train_acc /= count\n",
        "    train_acc_lst.append(train_acc)\n",
        "\n",
        "    val_loss = 0.0\n",
        "    val_acc = 0.0\n",
        "    count = 0\n",
        "    model.eval()\n",
        "    with torch.no_grad():\n",
        "        for X_val, y_val in val_loader:\n",
        "            X_val, y_val = X_val.to(device), y_val.to(device)\n",
        "            outputs = model(X_val)\n",
        "            loss = criterion(outputs, y_val)\n",
        "            val_loss += loss.item()\n",
        "            val_acc += (torch.argmax(outputs, 1) == y_val).sum().item()\n",
        "            count += len(y_val)\n",
        "\n",
        "    val_loss /= len(val_loader)\n",
        "    val_loss_lst.append(val_loss)\n",
        "\n",
        "    val_acc /= count\n",
        "    val_acc_lst.append(val_acc)\n",
        "    print(f\"Epoch {epoch + 1} / {epochs}, train_loss: {train_loss: .4f}, train_acc:{train_acc: .4f}, validation loss: {val_loss: .4f}, val_acc: {val_acc: .4f}\")"
      ],
      "metadata": {
        "colab": {
          "base_uri": "https://localhost:8080/"
        },
        "id": "YRoEMCIOpwHU",
        "outputId": "ef0782da-2390-4e46-ad14-3b49ed35a112"
      },
      "execution_count": null,
      "outputs": [
        {
          "output_type": "stream",
          "name": "stdout",
          "text": [
            "Epoch 1 / 100, train_loss:  2.2708, train_acc: 0.1785, validation loss:  2.2036, val_acc:  0.3238\n",
            "Epoch 2 / 100, train_loss:  2.1449, train_acc: 0.4186, validation loss:  2.0860, val_acc:  0.4603\n",
            "Epoch 3 / 100, train_loss:  2.0318, train_acc: 0.5131, validation loss:  1.9781, val_acc:  0.5320\n",
            "Epoch 4 / 100, train_loss:  1.9266, train_acc: 0.5541, validation loss:  1.8769, val_acc:  0.5548\n",
            "Epoch 5 / 100, train_loss:  1.8290, train_acc: 0.5754, validation loss:  1.7829, val_acc:  0.5763\n",
            "Epoch 6 / 100, train_loss:  1.7385, train_acc: 0.5888, validation loss:  1.6979, val_acc:  0.5845\n",
            "Epoch 7 / 100, train_loss:  1.6560, train_acc: 0.5971, validation loss:  1.6194, val_acc:  0.5945\n",
            "Epoch 8 / 100, train_loss:  1.5811, train_acc: 0.6044, validation loss:  1.5494, val_acc:  0.6018\n",
            "Epoch 9 / 100, train_loss:  1.5138, train_acc: 0.6104, validation loss:  1.4876, val_acc:  0.6060\n",
            "Epoch 10 / 100, train_loss:  1.4546, train_acc: 0.6161, validation loss:  1.4321, val_acc:  0.6093\n",
            "Epoch 11 / 100, train_loss:  1.4020, train_acc: 0.6201, validation loss:  1.3833, val_acc:  0.6143\n",
            "Epoch 12 / 100, train_loss:  1.3554, train_acc: 0.6249, validation loss:  1.3401, val_acc:  0.6183\n",
            "Epoch 13 / 100, train_loss:  1.3150, train_acc: 0.6284, validation loss:  1.3026, val_acc:  0.6208\n",
            "Epoch 14 / 100, train_loss:  1.2791, train_acc: 0.6329, validation loss:  1.2694, val_acc:  0.6235\n",
            "Epoch 15 / 100, train_loss:  1.2467, train_acc: 0.6358, validation loss:  1.2397, val_acc:  0.6287\n",
            "Epoch 16 / 100, train_loss:  1.2186, train_acc: 0.6390, validation loss:  1.2140, val_acc:  0.6283\n",
            "Epoch 17 / 100, train_loss:  1.1934, train_acc: 0.6413, validation loss:  1.1897, val_acc:  0.6352\n",
            "Epoch 18 / 100, train_loss:  1.1709, train_acc: 0.6444, validation loss:  1.1684, val_acc:  0.6367\n",
            "Epoch 19 / 100, train_loss:  1.1499, train_acc: 0.6465, validation loss:  1.1495, val_acc:  0.6380\n",
            "Epoch 20 / 100, train_loss:  1.1313, train_acc: 0.6483, validation loss:  1.1326, val_acc:  0.6403\n",
            "Epoch 21 / 100, train_loss:  1.1147, train_acc: 0.6498, validation loss:  1.1165, val_acc:  0.6443\n",
            "Epoch 22 / 100, train_loss:  1.0997, train_acc: 0.6516, validation loss:  1.1028, val_acc:  0.6405\n",
            "Epoch 23 / 100, train_loss:  1.0854, train_acc: 0.6528, validation loss:  1.0894, val_acc:  0.6450\n",
            "Epoch 24 / 100, train_loss:  1.0727, train_acc: 0.6551, validation loss:  1.0772, val_acc:  0.6463\n",
            "Epoch 25 / 100, train_loss:  1.0607, train_acc: 0.6563, validation loss:  1.0662, val_acc:  0.6465\n",
            "Epoch 26 / 100, train_loss:  1.0496, train_acc: 0.6582, validation loss:  1.0557, val_acc:  0.6515\n",
            "Epoch 27 / 100, train_loss:  1.0397, train_acc: 0.6598, validation loss:  1.0459, val_acc:  0.6503\n",
            "Epoch 28 / 100, train_loss:  1.0303, train_acc: 0.6608, validation loss:  1.0373, val_acc:  0.6528\n",
            "Epoch 29 / 100, train_loss:  1.0216, train_acc: 0.6616, validation loss:  1.0290, val_acc:  0.6515\n",
            "Epoch 30 / 100, train_loss:  1.0135, train_acc: 0.6631, validation loss:  1.0209, val_acc:  0.6520\n",
            "Epoch 31 / 100, train_loss:  1.0055, train_acc: 0.6638, validation loss:  1.0136, val_acc:  0.6558\n",
            "Epoch 32 / 100, train_loss:  0.9982, train_acc: 0.6654, validation loss:  1.0067, val_acc:  0.6573\n",
            "Epoch 33 / 100, train_loss:  0.9913, train_acc: 0.6661, validation loss:  1.0002, val_acc:  0.6588\n",
            "Epoch 34 / 100, train_loss:  0.9852, train_acc: 0.6672, validation loss:  0.9944, val_acc:  0.6582\n",
            "Epoch 35 / 100, train_loss:  0.9787, train_acc: 0.6686, validation loss:  0.9884, val_acc:  0.6578\n",
            "Epoch 36 / 100, train_loss:  0.9728, train_acc: 0.6687, validation loss:  0.9827, val_acc:  0.6612\n",
            "Epoch 37 / 100, train_loss:  0.9677, train_acc: 0.6701, validation loss:  0.9774, val_acc:  0.6613\n",
            "Epoch 38 / 100, train_loss:  0.9624, train_acc: 0.6711, validation loss:  0.9727, val_acc:  0.6623\n",
            "Epoch 39 / 100, train_loss:  0.9580, train_acc: 0.6722, validation loss:  0.9677, val_acc:  0.6618\n",
            "Epoch 40 / 100, train_loss:  0.9529, train_acc: 0.6730, validation loss:  0.9633, val_acc:  0.6643\n",
            "Epoch 41 / 100, train_loss:  0.9485, train_acc: 0.6734, validation loss:  0.9589, val_acc:  0.6672\n",
            "Epoch 42 / 100, train_loss:  0.9446, train_acc: 0.6744, validation loss:  0.9549, val_acc:  0.6665\n",
            "Epoch 43 / 100, train_loss:  0.9401, train_acc: 0.6753, validation loss:  0.9509, val_acc:  0.6698\n",
            "Epoch 44 / 100, train_loss:  0.9362, train_acc: 0.6759, validation loss:  0.9473, val_acc:  0.6673\n",
            "Epoch 45 / 100, train_loss:  0.9328, train_acc: 0.6769, validation loss:  0.9436, val_acc:  0.6707\n",
            "Epoch 46 / 100, train_loss:  0.9293, train_acc: 0.6779, validation loss:  0.9404, val_acc:  0.6690\n",
            "Epoch 47 / 100, train_loss:  0.9258, train_acc: 0.6784, validation loss:  0.9367, val_acc:  0.6708\n",
            "Epoch 48 / 100, train_loss:  0.9225, train_acc: 0.6794, validation loss:  0.9335, val_acc:  0.6725\n",
            "Epoch 49 / 100, train_loss:  0.9190, train_acc: 0.6801, validation loss:  0.9309, val_acc:  0.6718\n",
            "Epoch 50 / 100, train_loss:  0.9158, train_acc: 0.6803, validation loss:  0.9277, val_acc:  0.6727\n",
            "Epoch 51 / 100, train_loss:  0.9127, train_acc: 0.6809, validation loss:  0.9243, val_acc:  0.6768\n",
            "Epoch 52 / 100, train_loss:  0.9104, train_acc: 0.6823, validation loss:  0.9218, val_acc:  0.6758\n",
            "Epoch 53 / 100, train_loss:  0.9075, train_acc: 0.6822, validation loss:  0.9187, val_acc:  0.6782\n",
            "Epoch 54 / 100, train_loss:  0.9045, train_acc: 0.6831, validation loss:  0.9166, val_acc:  0.6778\n",
            "Epoch 55 / 100, train_loss:  0.9019, train_acc: 0.6836, validation loss:  0.9140, val_acc:  0.6787\n",
            "Epoch 56 / 100, train_loss:  0.8993, train_acc: 0.6847, validation loss:  0.9116, val_acc:  0.6797\n",
            "Epoch 57 / 100, train_loss:  0.8968, train_acc: 0.6849, validation loss:  0.9091, val_acc:  0.6795\n",
            "Epoch 58 / 100, train_loss:  0.8952, train_acc: 0.6856, validation loss:  0.9068, val_acc:  0.6803\n",
            "Epoch 59 / 100, train_loss:  0.8928, train_acc: 0.6860, validation loss:  0.9043, val_acc:  0.6815\n",
            "Epoch 60 / 100, train_loss:  0.8902, train_acc: 0.6871, validation loss:  0.9023, val_acc:  0.6815\n",
            "Epoch 61 / 100, train_loss:  0.8884, train_acc: 0.6875, validation loss:  0.9002, val_acc:  0.6820\n",
            "Epoch 62 / 100, train_loss:  0.8862, train_acc: 0.6877, validation loss:  0.8980, val_acc:  0.6842\n",
            "Epoch 63 / 100, train_loss:  0.8842, train_acc: 0.6884, validation loss:  0.8959, val_acc:  0.6833\n",
            "Epoch 64 / 100, train_loss:  0.8824, train_acc: 0.6891, validation loss:  0.8941, val_acc:  0.6827\n",
            "Epoch 65 / 100, train_loss:  0.8812, train_acc: 0.6898, validation loss:  0.8920, val_acc:  0.6843\n",
            "Epoch 66 / 100, train_loss:  0.8785, train_acc: 0.6894, validation loss:  0.8903, val_acc:  0.6847\n",
            "Epoch 67 / 100, train_loss:  0.8762, train_acc: 0.6901, validation loss:  0.8885, val_acc:  0.6867\n",
            "Epoch 68 / 100, train_loss:  0.8752, train_acc: 0.6911, validation loss:  0.8870, val_acc:  0.6872\n",
            "Epoch 69 / 100, train_loss:  0.8730, train_acc: 0.6911, validation loss:  0.8851, val_acc:  0.6873\n",
            "Epoch 70 / 100, train_loss:  0.8712, train_acc: 0.6911, validation loss:  0.8835, val_acc:  0.6900\n",
            "Epoch 71 / 100, train_loss:  0.8699, train_acc: 0.6920, validation loss:  0.8821, val_acc:  0.6883\n",
            "Epoch 72 / 100, train_loss:  0.8679, train_acc: 0.6922, validation loss:  0.8802, val_acc:  0.6890\n",
            "Epoch 73 / 100, train_loss:  0.8670, train_acc: 0.6928, validation loss:  0.8786, val_acc:  0.6898\n",
            "Epoch 74 / 100, train_loss:  0.8646, train_acc: 0.6931, validation loss:  0.8775, val_acc:  0.6902\n",
            "Epoch 75 / 100, train_loss:  0.8636, train_acc: 0.6936, validation loss:  0.8757, val_acc:  0.6908\n",
            "Epoch 76 / 100, train_loss:  0.8620, train_acc: 0.6941, validation loss:  0.8743, val_acc:  0.6915\n",
            "Epoch 77 / 100, train_loss:  0.8602, train_acc: 0.6944, validation loss:  0.8727, val_acc:  0.6922\n",
            "Epoch 78 / 100, train_loss:  0.8589, train_acc: 0.6944, validation loss:  0.8715, val_acc:  0.6922\n",
            "Epoch 79 / 100, train_loss:  0.8580, train_acc: 0.6950, validation loss:  0.8700, val_acc:  0.6912\n",
            "Epoch 80 / 100, train_loss:  0.8565, train_acc: 0.6955, validation loss:  0.8687, val_acc:  0.6933\n",
            "Epoch 81 / 100, train_loss:  0.8552, train_acc: 0.6954, validation loss:  0.8675, val_acc:  0.6922\n",
            "Epoch 82 / 100, train_loss:  0.8540, train_acc: 0.6960, validation loss:  0.8660, val_acc:  0.6933\n",
            "Epoch 83 / 100, train_loss:  0.8527, train_acc: 0.6967, validation loss:  0.8650, val_acc:  0.6950\n",
            "Epoch 84 / 100, train_loss:  0.8512, train_acc: 0.6966, validation loss:  0.8635, val_acc:  0.6957\n",
            "Epoch 85 / 100, train_loss:  0.8502, train_acc: 0.6974, validation loss:  0.8625, val_acc:  0.6953\n",
            "Epoch 86 / 100, train_loss:  0.8487, train_acc: 0.6979, validation loss:  0.8614, val_acc:  0.6953\n",
            "Epoch 87 / 100, train_loss:  0.8478, train_acc: 0.6978, validation loss:  0.8601, val_acc:  0.6963\n",
            "Epoch 88 / 100, train_loss:  0.8464, train_acc: 0.6984, validation loss:  0.8591, val_acc:  0.6973\n",
            "Epoch 89 / 100, train_loss:  0.8455, train_acc: 0.6982, validation loss:  0.8580, val_acc:  0.6953\n",
            "Epoch 90 / 100, train_loss:  0.8443, train_acc: 0.6984, validation loss:  0.8566, val_acc:  0.6977\n",
            "Epoch 91 / 100, train_loss:  0.8438, train_acc: 0.6993, validation loss:  0.8557, val_acc:  0.6968\n",
            "Epoch 92 / 100, train_loss:  0.8419, train_acc: 0.6994, validation loss:  0.8547, val_acc:  0.6968\n",
            "Epoch 93 / 100, train_loss:  0.8410, train_acc: 0.6998, validation loss:  0.8535, val_acc:  0.6990\n",
            "Epoch 94 / 100, train_loss:  0.8401, train_acc: 0.7004, validation loss:  0.8523, val_acc:  0.6987\n",
            "Epoch 95 / 100, train_loss:  0.8391, train_acc: 0.7000, validation loss:  0.8516, val_acc:  0.6987\n",
            "Epoch 96 / 100, train_loss:  0.8379, train_acc: 0.7005, validation loss:  0.8507, val_acc:  0.6997\n",
            "Epoch 97 / 100, train_loss:  0.8374, train_acc: 0.7012, validation loss:  0.8498, val_acc:  0.7012\n",
            "Epoch 98 / 100, train_loss:  0.8354, train_acc: 0.7011, validation loss:  0.8487, val_acc:  0.7002\n",
            "Epoch 99 / 100, train_loss:  0.8350, train_acc: 0.7013, validation loss:  0.8475, val_acc:  0.7000\n",
            "Epoch 100 / 100, train_loss:  0.8337, train_acc: 0.7019, validation loss:  0.8467, val_acc:  0.7018\n"
          ]
        }
      ]
    },
    {
      "cell_type": "markdown",
      "source": [
        "### Stage 4"
      ],
      "metadata": {
        "id": "QXMO1swBp40x"
      }
    },
    {
      "cell_type": "code",
      "source": [
        "for param in first.parameters():\n",
        "  param.requires_grad = False\n",
        "for param in second.parameters():\n",
        "  param.requires_grad = False\n",
        "for param in third.parameters():\n",
        "  param.requires_grad = False\n",
        "\n",
        "model = nn.Sequential(\n",
        "    first,\n",
        "    second,\n",
        "    third,\n",
        "    fourth,\n",
        "    nn.Linear(128, 10)\n",
        ").to(device)\n",
        "optimizer = optim.SGD(model.parameters(), lr=lr)\n",
        "\n",
        "# train model\n",
        "epochs = 100\n",
        "train_loss_lst = []\n",
        "train_acc_lst = []\n",
        "val_loss_lst = []\n",
        "val_acc_lst = []\n",
        "for epoch in range(epochs):\n",
        "    train_loss = 0.0\n",
        "    train_acc = 0.0\n",
        "    count = 0\n",
        "\n",
        "    model.train()\n",
        "    for X_train, y_train in train_loader:\n",
        "        X_train, y_train = X_train.to(device), y_train.to(device)\n",
        "        optimizer.zero_grad()\n",
        "        outputs = model(X_train)\n",
        "        loss = criterion(outputs, y_train)\n",
        "        loss.backward()\n",
        "        optimizer.step()\n",
        "        train_loss += loss.item()\n",
        "        train_acc += (torch.argmax(outputs, 1) == y_train).sum().item()\n",
        "        count += len(y_train)\n",
        "\n",
        "    train_loss /= len(train_loader)\n",
        "    train_loss_lst.append(train_loss)\n",
        "\n",
        "    train_acc /= count\n",
        "    train_acc_lst.append(train_acc)\n",
        "\n",
        "    val_loss = 0.0\n",
        "    val_acc = 0.0\n",
        "    count = 0\n",
        "    model.eval()\n",
        "    with torch.no_grad():\n",
        "        for X_val, y_val in val_loader:\n",
        "            X_val, y_val = X_val.to(device), y_val.to(device)\n",
        "            outputs = model(X_val)\n",
        "            loss = criterion(outputs, y_val)\n",
        "            val_loss += loss.item()\n",
        "            val_acc += (torch.argmax(outputs, 1) == y_val).sum().item()\n",
        "            count += len(y_val)\n",
        "\n",
        "    val_loss /= len(val_loader)\n",
        "    val_loss_lst.append(val_loss)\n",
        "\n",
        "    val_acc /= count\n",
        "    val_acc_lst.append(val_acc)\n",
        "    print(f\"Epoch {epoch + 1} / {epochs}, train_loss: {train_loss: .4f}, train_acc:{train_acc: .4f}, validation loss: {val_loss: .4f}, val_acc: {val_acc: .4f}\")"
      ],
      "metadata": {
        "colab": {
          "base_uri": "https://localhost:8080/"
        },
        "id": "tocBVVPtp6Qz",
        "outputId": "27b8eba1-a102-43af-bf7f-92eebcd2dd95"
      },
      "execution_count": null,
      "outputs": [
        {
          "output_type": "stream",
          "name": "stdout",
          "text": [
            "Epoch 1 / 100, train_loss:  2.3038, train_acc: 0.1417, validation loss:  2.2927, val_acc:  0.1777\n",
            "Epoch 2 / 100, train_loss:  2.2846, train_acc: 0.2384, validation loss:  2.2783, val_acc:  0.2887\n",
            "Epoch 3 / 100, train_loss:  2.2699, train_acc: 0.3414, validation loss:  2.2630, val_acc:  0.3552\n",
            "Epoch 4 / 100, train_loss:  2.2543, train_acc: 0.4061, validation loss:  2.2475, val_acc:  0.4178\n",
            "Epoch 5 / 100, train_loss:  2.2374, train_acc: 0.4585, validation loss:  2.2301, val_acc:  0.4292\n",
            "Epoch 6 / 100, train_loss:  2.2190, train_acc: 0.4921, validation loss:  2.2108, val_acc:  0.5357\n",
            "Epoch 7 / 100, train_loss:  2.1986, train_acc: 0.5241, validation loss:  2.1898, val_acc:  0.5418\n",
            "Epoch 8 / 100, train_loss:  2.1758, train_acc: 0.5267, validation loss:  2.1663, val_acc:  0.5487\n",
            "Epoch 9 / 100, train_loss:  2.1504, train_acc: 0.5425, validation loss:  2.1397, val_acc:  0.5533\n",
            "Epoch 10 / 100, train_loss:  2.1223, train_acc: 0.5556, validation loss:  2.1107, val_acc:  0.5447\n",
            "Epoch 11 / 100, train_loss:  2.0912, train_acc: 0.5476, validation loss:  2.0789, val_acc:  0.5398\n",
            "Epoch 12 / 100, train_loss:  2.0576, train_acc: 0.5545, validation loss:  2.0440, val_acc:  0.5730\n",
            "Epoch 13 / 100, train_loss:  2.0212, train_acc: 0.5644, validation loss:  2.0072, val_acc:  0.5588\n",
            "Epoch 14 / 100, train_loss:  1.9826, train_acc: 0.5604, validation loss:  1.9681, val_acc:  0.5627\n",
            "Epoch 15 / 100, train_loss:  1.9425, train_acc: 0.5696, validation loss:  1.9283, val_acc:  0.5562\n",
            "Epoch 16 / 100, train_loss:  1.9014, train_acc: 0.5715, validation loss:  1.8875, val_acc:  0.5737\n",
            "Epoch 17 / 100, train_loss:  1.8602, train_acc: 0.5736, validation loss:  1.8463, val_acc:  0.5812\n",
            "Epoch 18 / 100, train_loss:  1.8192, train_acc: 0.5824, validation loss:  1.8056, val_acc:  0.5862\n",
            "Epoch 19 / 100, train_loss:  1.7785, train_acc: 0.5884, validation loss:  1.7660, val_acc:  0.5848\n",
            "Epoch 20 / 100, train_loss:  1.7391, train_acc: 0.5907, validation loss:  1.7277, val_acc:  0.5855\n",
            "Epoch 21 / 100, train_loss:  1.7013, train_acc: 0.5936, validation loss:  1.6905, val_acc:  0.5937\n",
            "Epoch 22 / 100, train_loss:  1.6650, train_acc: 0.5974, validation loss:  1.6550, val_acc:  0.5920\n",
            "Epoch 23 / 100, train_loss:  1.6299, train_acc: 0.6018, validation loss:  1.6212, val_acc:  0.5980\n",
            "Epoch 24 / 100, train_loss:  1.5966, train_acc: 0.6059, validation loss:  1.5883, val_acc:  0.6023\n",
            "Epoch 25 / 100, train_loss:  1.5648, train_acc: 0.6073, validation loss:  1.5575, val_acc:  0.6003\n",
            "Epoch 26 / 100, train_loss:  1.5342, train_acc: 0.6081, validation loss:  1.5279, val_acc:  0.6100\n",
            "Epoch 27 / 100, train_loss:  1.5053, train_acc: 0.6139, validation loss:  1.4998, val_acc:  0.6097\n",
            "Epoch 28 / 100, train_loss:  1.4780, train_acc: 0.6159, validation loss:  1.4727, val_acc:  0.6113\n",
            "Epoch 29 / 100, train_loss:  1.4517, train_acc: 0.6166, validation loss:  1.4473, val_acc:  0.6152\n",
            "Epoch 30 / 100, train_loss:  1.4265, train_acc: 0.6187, validation loss:  1.4229, val_acc:  0.6205\n",
            "Epoch 31 / 100, train_loss:  1.4030, train_acc: 0.6226, validation loss:  1.3997, val_acc:  0.6188\n",
            "Epoch 32 / 100, train_loss:  1.3800, train_acc: 0.6210, validation loss:  1.3772, val_acc:  0.6277\n",
            "Epoch 33 / 100, train_loss:  1.3582, train_acc: 0.6263, validation loss:  1.3562, val_acc:  0.6258\n",
            "Epoch 34 / 100, train_loss:  1.3380, train_acc: 0.6261, validation loss:  1.3363, val_acc:  0.6277\n",
            "Epoch 35 / 100, train_loss:  1.3181, train_acc: 0.6282, validation loss:  1.3173, val_acc:  0.6243\n",
            "Epoch 36 / 100, train_loss:  1.2995, train_acc: 0.6305, validation loss:  1.2992, val_acc:  0.6250\n",
            "Epoch 37 / 100, train_loss:  1.2817, train_acc: 0.6313, validation loss:  1.2825, val_acc:  0.6287\n",
            "Epoch 38 / 100, train_loss:  1.2649, train_acc: 0.6326, validation loss:  1.2653, val_acc:  0.6293\n",
            "Epoch 39 / 100, train_loss:  1.2487, train_acc: 0.6343, validation loss:  1.2505, val_acc:  0.6320\n",
            "Epoch 40 / 100, train_loss:  1.2334, train_acc: 0.6348, validation loss:  1.2351, val_acc:  0.6325\n",
            "Epoch 41 / 100, train_loss:  1.2185, train_acc: 0.6364, validation loss:  1.2211, val_acc:  0.6362\n",
            "Epoch 42 / 100, train_loss:  1.2046, train_acc: 0.6388, validation loss:  1.2076, val_acc:  0.6317\n",
            "Epoch 43 / 100, train_loss:  1.1911, train_acc: 0.6373, validation loss:  1.1945, val_acc:  0.6363\n",
            "Epoch 44 / 100, train_loss:  1.1782, train_acc: 0.6389, validation loss:  1.1826, val_acc:  0.6398\n",
            "Epoch 45 / 100, train_loss:  1.1663, train_acc: 0.6406, validation loss:  1.1707, val_acc:  0.6362\n",
            "Epoch 46 / 100, train_loss:  1.1552, train_acc: 0.6410, validation loss:  1.1598, val_acc:  0.6383\n",
            "Epoch 47 / 100, train_loss:  1.1439, train_acc: 0.6420, validation loss:  1.1493, val_acc:  0.6408\n",
            "Epoch 48 / 100, train_loss:  1.1334, train_acc: 0.6436, validation loss:  1.1390, val_acc:  0.6410\n",
            "Epoch 49 / 100, train_loss:  1.1231, train_acc: 0.6440, validation loss:  1.1296, val_acc:  0.6427\n",
            "Epoch 50 / 100, train_loss:  1.1138, train_acc: 0.6453, validation loss:  1.1208, val_acc:  0.6420\n",
            "Epoch 51 / 100, train_loss:  1.1048, train_acc: 0.6455, validation loss:  1.1118, val_acc:  0.6425\n",
            "Epoch 52 / 100, train_loss:  1.0960, train_acc: 0.6464, validation loss:  1.1032, val_acc:  0.6425\n",
            "Epoch 53 / 100, train_loss:  1.0873, train_acc: 0.6472, validation loss:  1.0950, val_acc:  0.6452\n",
            "Epoch 54 / 100, train_loss:  1.0793, train_acc: 0.6481, validation loss:  1.0876, val_acc:  0.6437\n",
            "Epoch 55 / 100, train_loss:  1.0721, train_acc: 0.6490, validation loss:  1.0804, val_acc:  0.6460\n",
            "Epoch 56 / 100, train_loss:  1.0646, train_acc: 0.6506, validation loss:  1.0736, val_acc:  0.6427\n",
            "Epoch 57 / 100, train_loss:  1.0576, train_acc: 0.6498, validation loss:  1.0668, val_acc:  0.6482\n",
            "Epoch 58 / 100, train_loss:  1.0508, train_acc: 0.6515, validation loss:  1.0605, val_acc:  0.6472\n",
            "Epoch 59 / 100, train_loss:  1.0442, train_acc: 0.6520, validation loss:  1.0540, val_acc:  0.6492\n",
            "Epoch 60 / 100, train_loss:  1.0383, train_acc: 0.6536, validation loss:  1.0487, val_acc:  0.6473\n",
            "Epoch 61 / 100, train_loss:  1.0326, train_acc: 0.6534, validation loss:  1.0430, val_acc:  0.6480\n",
            "Epoch 62 / 100, train_loss:  1.0269, train_acc: 0.6544, validation loss:  1.0375, val_acc:  0.6507\n",
            "Epoch 63 / 100, train_loss:  1.0214, train_acc: 0.6551, validation loss:  1.0322, val_acc:  0.6503\n",
            "Epoch 64 / 100, train_loss:  1.0164, train_acc: 0.6559, validation loss:  1.0274, val_acc:  0.6530\n",
            "Epoch 65 / 100, train_loss:  1.0110, train_acc: 0.6563, validation loss:  1.0228, val_acc:  0.6518\n",
            "Epoch 66 / 100, train_loss:  1.0063, train_acc: 0.6570, validation loss:  1.0179, val_acc:  0.6532\n",
            "Epoch 67 / 100, train_loss:  1.0014, train_acc: 0.6569, validation loss:  1.0134, val_acc:  0.6545\n",
            "Epoch 68 / 100, train_loss:  0.9973, train_acc: 0.6581, validation loss:  1.0095, val_acc:  0.6542\n",
            "Epoch 69 / 100, train_loss:  0.9930, train_acc: 0.6591, validation loss:  1.0054, val_acc:  0.6537\n",
            "Epoch 70 / 100, train_loss:  0.9890, train_acc: 0.6591, validation loss:  1.0013, val_acc:  0.6583\n",
            "Epoch 71 / 100, train_loss:  0.9846, train_acc: 0.6604, validation loss:  0.9977, val_acc:  0.6555\n",
            "Epoch 72 / 100, train_loss:  0.9813, train_acc: 0.6612, validation loss:  0.9938, val_acc:  0.6582\n",
            "Epoch 73 / 100, train_loss:  0.9775, train_acc: 0.6612, validation loss:  0.9905, val_acc:  0.6590\n",
            "Epoch 74 / 100, train_loss:  0.9740, train_acc: 0.6618, validation loss:  0.9870, val_acc:  0.6587\n",
            "Epoch 75 / 100, train_loss:  0.9703, train_acc: 0.6628, validation loss:  0.9839, val_acc:  0.6597\n",
            "Epoch 76 / 100, train_loss:  0.9672, train_acc: 0.6630, validation loss:  0.9805, val_acc:  0.6620\n",
            "Epoch 77 / 100, train_loss:  0.9638, train_acc: 0.6638, validation loss:  0.9776, val_acc:  0.6583\n",
            "Epoch 78 / 100, train_loss:  0.9606, train_acc: 0.6642, validation loss:  0.9745, val_acc:  0.6618\n",
            "Epoch 79 / 100, train_loss:  0.9580, train_acc: 0.6655, validation loss:  0.9716, val_acc:  0.6627\n",
            "Epoch 80 / 100, train_loss:  0.9555, train_acc: 0.6652, validation loss:  0.9688, val_acc:  0.6627\n",
            "Epoch 81 / 100, train_loss:  0.9520, train_acc: 0.6663, validation loss:  0.9660, val_acc:  0.6637\n",
            "Epoch 82 / 100, train_loss:  0.9497, train_acc: 0.6669, validation loss:  0.9636, val_acc:  0.6630\n",
            "Epoch 83 / 100, train_loss:  0.9466, train_acc: 0.6666, validation loss:  0.9610, val_acc:  0.6640\n",
            "Epoch 84 / 100, train_loss:  0.9441, train_acc: 0.6677, validation loss:  0.9587, val_acc:  0.6637\n",
            "Epoch 85 / 100, train_loss:  0.9418, train_acc: 0.6677, validation loss:  0.9561, val_acc:  0.6658\n",
            "Epoch 86 / 100, train_loss:  0.9395, train_acc: 0.6687, validation loss:  0.9536, val_acc:  0.6668\n",
            "Epoch 87 / 100, train_loss:  0.9371, train_acc: 0.6687, validation loss:  0.9517, val_acc:  0.6650\n",
            "Epoch 88 / 100, train_loss:  0.9352, train_acc: 0.6692, validation loss:  0.9493, val_acc:  0.6688\n",
            "Epoch 89 / 100, train_loss:  0.9325, train_acc: 0.6692, validation loss:  0.9474, val_acc:  0.6665\n",
            "Epoch 90 / 100, train_loss:  0.9307, train_acc: 0.6697, validation loss:  0.9452, val_acc:  0.6683\n",
            "Epoch 91 / 100, train_loss:  0.9285, train_acc: 0.6705, validation loss:  0.9432, val_acc:  0.6695\n",
            "Epoch 92 / 100, train_loss:  0.9266, train_acc: 0.6707, validation loss:  0.9412, val_acc:  0.6668\n",
            "Epoch 93 / 100, train_loss:  0.9248, train_acc: 0.6712, validation loss:  0.9394, val_acc:  0.6692\n",
            "Epoch 94 / 100, train_loss:  0.9230, train_acc: 0.6716, validation loss:  0.9381, val_acc:  0.6675\n",
            "Epoch 95 / 100, train_loss:  0.9216, train_acc: 0.6720, validation loss:  0.9359, val_acc:  0.6698\n",
            "Epoch 96 / 100, train_loss:  0.9196, train_acc: 0.6723, validation loss:  0.9342, val_acc:  0.6703\n",
            "Epoch 97 / 100, train_loss:  0.9177, train_acc: 0.6727, validation loss:  0.9325, val_acc:  0.6697\n",
            "Epoch 98 / 100, train_loss:  0.9157, train_acc: 0.6732, validation loss:  0.9305, val_acc:  0.6732\n",
            "Epoch 99 / 100, train_loss:  0.9142, train_acc: 0.6739, validation loss:  0.9291, val_acc:  0.6700\n",
            "Epoch 100 / 100, train_loss:  0.9122, train_acc: 0.6737, validation loss:  0.9275, val_acc:  0.6707\n"
          ]
        }
      ]
    },
    {
      "cell_type": "markdown",
      "source": [
        "### Present results"
      ],
      "metadata": {
        "id": "huOhLTI4Obx4"
      }
    },
    {
      "cell_type": "code",
      "source": [
        "# Present results\n",
        "fig, ax = plt.subplots(2, 2, figsize=(12, 10))\n",
        "ax[0, 0].plot(train_loss_lst, color='green')\n",
        "ax[0, 0].set(xlabel='Epoch', ylabel='Loss')\n",
        "ax[0, 0].set_title('Training Loss')\n",
        "\n",
        "ax[0, 1].plot(val_loss_lst, color='orange')\n",
        "ax[0, 1].set(xlabel='Epoch', ylabel='Loss')\n",
        "ax[0, 1].set_title('Validation Loss')\n",
        "\n",
        "ax[1, 0].plot(train_acc_lst, color='green')\n",
        "ax[1, 0].set(xlabel='Epoch', ylabel='Accuracy')\n",
        "ax[1, 0].set_title('Training Accuracy')\n",
        "\n",
        "ax[1, 1].plot(val_acc_lst, color='orange')\n",
        "ax[1, 1].set(xlabel='Epoch', ylabel='Accuracy')\n",
        "ax[1, 1].set_title('Validation Accuracy')\n",
        "\n",
        "plt.show()"
      ],
      "metadata": {
        "colab": {
          "base_uri": "https://localhost:8080/",
          "height": 554
        },
        "id": "DxZ6fooWOfv6",
        "outputId": "f1fc6b0a-6dfe-4f3a-b4f8-95beb875e28f"
      },
      "execution_count": null,
      "outputs": [
        {
          "output_type": "display_data",
          "data": {
            "text/plain": [
              "<Figure size 1200x1000 with 4 Axes>"
            ],
            "image/png": "[encoded data removed]"
          },
          "metadata": {}
        }
      ]
    },
    {
      "cell_type": "markdown",
      "source": [
        "### Evaluation"
      ],
      "metadata": {
        "id": "_8Tu9D3jOmX3"
      }
    },
    {
      "cell_type": "code",
      "source": [
        "# Evaluation\n",
        "test_target = []\n",
        "test_predict = []\n",
        "model.eval()\n",
        "with torch.no_grad():\n",
        "    for X_test, y_test in test_loader:\n",
        "        X_test, y_test = X_test.to(device), y_test.to(device)\n",
        "        outputs = model(X_test)\n",
        "\n",
        "        test_predict.append(outputs.cpu())\n",
        "        test_target.append(y_test.cpu())\n",
        "\n",
        "    test_predict = torch.cat(test_predict)\n",
        "    test_target = torch.cat(test_target)\n",
        "    test_acc = (torch.argmax(test_predict, 1) ==\n",
        "                test_target).sum().item()/len(test_target)\n",
        "\n",
        "    print(f\"Accuracy: {test_acc}\")\n",
        "    print(\"============================================================\")"
      ],
      "metadata": {
        "colab": {
          "base_uri": "https://localhost:8080/"
        },
        "id": "JavoJlydOoVZ",
        "outputId": "3b165f47-3844-4011-e446-9e8a6e16b202"
      },
      "execution_count": null,
      "outputs": [
        {
          "output_type": "stream",
          "name": "stdout",
          "text": [
            "Accuracy: 0.668\n",
            "============================================================\n"
          ]
        }
      ]
    }
  ]
}