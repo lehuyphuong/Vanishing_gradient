{
  "nbformat": 4,
  "nbformat_minor": 0,
  "metadata": {
    "colab": {
      "provenance": [],
      "mount_file_id": "1ykabDaKvJBE2aWa6qDV3mNsIdsCkySZQ",
      "authorship_tag": "ABX9TyMt1t15qYKhWmPmBFTQ0Q7H",
      "include_colab_link": true
    },
    "kernelspec": {
      "name": "python3",
      "display_name": "Python 3"
    },
    "language_info": {
      "name": "python"
    }
  },
  "cells": [
    {
      "cell_type": "markdown",
      "metadata": {
        "id": "view-in-github",
        "colab_type": "text"
      },
      "source": [
        "<a href=\"https://colab.research.google.com/github/lehuyphuong/Vanishing_gradient/blob/feature%2Fadd_solution_project_vanishing_gradient/model_updated_by_gradient_normalization.ipynb\" target=\"_parent\"><img src=\"https://colab.research.google.com/assets/colab-badge.svg\" alt=\"Open In Colab\"/></a>"
      ]
    },
    {
      "cell_type": "markdown",
      "source": [
        "### Import library"
      ],
      "metadata": {
        "id": "AHf5TGR_ODqT"
      }
    },
    {
      "cell_type": "code",
      "source": [
        "import random\n",
        "import torch\n",
        "import torch.optim as optim\n",
        "import torchvision\n",
        "import torchvision.transforms as transforms\n",
        "from torch import nn\n",
        "from torch.utils.data import Dataset, DataLoader, random_split\n",
        "from torchvision.datasets import FashionMNIST\n",
        "import numpy as np\n",
        "import matplotlib.pyplot as plt"
      ],
      "metadata": {
        "id": "YbXMEdaGODfZ"
      },
      "execution_count": null,
      "outputs": []
    },
    {
      "cell_type": "markdown",
      "source": [
        "### Set up random seed"
      ],
      "metadata": {
        "id": "Yjh9LMldOJa-"
      }
    },
    {
      "cell_type": "code",
      "source": [
        "def set_seed(seed):\n",
        "    random.seed(seed)\n",
        "    np.random.seed(seed)\n",
        "    torch.manual_seed(seed)\n",
        "    torch.cuda.manual_seed(seed)\n",
        "    torch.cuda.manual_seed_all(seed)\n",
        "    torch.backends.cudnn.deterministic = True\n",
        "    torch.backends.cudnn.benchmark = False\n",
        "\n",
        "\n",
        "SEED = 42\n",
        "set_seed(SEED)"
      ],
      "metadata": {
        "id": "BBUK9NxWOJFN"
      },
      "execution_count": null,
      "outputs": []
    },
    {
      "cell_type": "markdown",
      "source": [
        "### Download dataset"
      ],
      "metadata": {
        "id": "4H0aMCCFN6LW"
      }
    },
    {
      "cell_type": "code",
      "execution_count": null,
      "metadata": {
        "id": "GnAqdJeHN4E1"
      },
      "outputs": [],
      "source": [
        "# download dataset\n",
        "train_dataset = FashionMNIST('/content/drive/MyDrive/AIO_2024/Module_5/Week_4/data', train=True,\n",
        "                             download=True,\n",
        "                             transform=transforms.ToTensor())\n",
        "\n",
        "test_dataset = FashionMNIST('/content/drive/MyDrive/AIO_2024/Module_5/Week_4/data', train=False,\n",
        "                            download=True,\n",
        "                            transform=transforms.ToTensor())\n"
      ]
    },
    {
      "cell_type": "markdown",
      "source": [
        "### Split dataset"
      ],
      "metadata": {
        "id": "rkvrX_plOOtL"
      }
    },
    {
      "cell_type": "code",
      "source": [
        "batch_size = 512\n",
        "\n",
        "\n",
        "train_ratio = 0.9\n",
        "train_size = int(len(train_dataset)*train_ratio)\n",
        "val_size = len(train_dataset) - train_size\n",
        "\n",
        "train_subnet, val_subnet = random_split(train_dataset, [train_size, val_size])\n",
        "train_loader = DataLoader(train_subnet, batch_size=batch_size, shuffle=True)\n",
        "\n",
        "val_loader = DataLoader(val_subnet, batch_size=batch_size, shuffle=False)\n",
        "test_loader = DataLoader(test_dataset, batch_size=batch_size, shuffle=False)\n",
        "\n",
        "print(f\"Train size: {len(train_subnet)}\")\n",
        "print(f\"Val size: {len(val_subnet)}\")\n",
        "print(f\"Test size: {len(test_dataset)}\")"
      ],
      "metadata": {
        "colab": {
          "base_uri": "https://localhost:8080/"
        },
        "id": "J2HmJf3eOR8v",
        "outputId": "fc2e97ef-c1ec-4fa2-93f2-d14473a12676"
      },
      "execution_count": null,
      "outputs": [
        {
          "output_type": "stream",
          "name": "stdout",
          "text": [
            "Train size: 54000\n",
            "Val size: 6000\n",
            "Test size: 10000\n"
          ]
        }
      ]
    },
    {
      "cell_type": "markdown",
      "source": [
        "### Define model"
      ],
      "metadata": {
        "id": "g5HC44eHOTrk"
      }
    },
    {
      "cell_type": "code",
      "source": [
        "class GradientNormalization(torch.autograd.Function):\n",
        "  @staticmethod\n",
        "  def forward(ctx, input):\n",
        "    # Forward pass: pass input unchanged\n",
        "    ctx.save_for_backward(input)\n",
        "\n",
        "  @staticmethod\n",
        "  def backward(ctx, grad_output):\n",
        "    # Normalize the gradient\n",
        "    mean = torch.mean(grad_output)\n",
        "    std = torch.std(grad_output)\n",
        "    grad_input = (grad_output - mean) / (std + 1e-6)\n",
        "    return grad_input\n",
        "\n",
        "class GradientNormalizationLayer(nn.Module):\n",
        "  def __init__(self):\n",
        "    super(GradientNormalizationLayer, self).__init__()\n",
        "\n",
        "  def forward(self, x):\n",
        "    return GradientNormalization.apply(x)"
      ],
      "metadata": {
        "id": "ES6lDzPPrD_d"
      },
      "execution_count": null,
      "outputs": []
    },
    {
      "cell_type": "code",
      "source": [
        "device = torch.device('cuda:0' if torch.cuda.is_available() else 'cpu')\n",
        "class MLP(nn.Module):\n",
        "    def __init__(self, input_dims, hidden_dims, output_dims):\n",
        "        super().__init__()\n",
        "        self.layer1 = nn.Linear(input_dims, hidden_dims)\n",
        "        self.layer2 = nn.Linear(hidden_dims, hidden_dims)\n",
        "        self.layer3 = nn.Linear(hidden_dims, hidden_dims)\n",
        "        self.layer4 = nn.Linear(hidden_dims, hidden_dims)\n",
        "        self.layer5 = nn.Linear(hidden_dims, hidden_dims)\n",
        "        self.layer6 = nn.Linear(hidden_dims, hidden_dims)\n",
        "        self.layer7 = nn.Linear(hidden_dims, hidden_dims)\n",
        "        self.output = nn.Linear(hidden_dims, output_dims)\n",
        "\n",
        "        self.gradient_normalization_layer = GradientNormalizationLayer()\n",
        "        for module in self.modules():\n",
        "          if isinstance(module, nn.Linear):\n",
        "            nn.init.normal_(module.weight, mean=0.0, std=1.0)\n",
        "            nn.init.constant_(module.bias, 0.0)\n",
        "\n",
        "    def forward(self, x):\n",
        "        x = nn.Flatten()(x)\n",
        "        x = self.layer1(x)\n",
        "        self.gradient_normalization_layer(x)\n",
        "        x = nn.Sigmoid()(x)\n",
        "        x = self.layer2(x)\n",
        "        self.gradient_normalization_layer(x)\n",
        "        x = nn.Sigmoid()(x)\n",
        "        x = self.layer3(x)\n",
        "        self.gradient_normalization_layer(x)\n",
        "        x = nn.Sigmoid()(x)\n",
        "        x = self.layer4(x)\n",
        "        self.gradient_normalization_layer(x)\n",
        "        x = nn.Sigmoid()(x)\n",
        "        x = self.layer5(x)\n",
        "        self.gradient_normalization_layer(x)\n",
        "        x = nn.Sigmoid()(x)\n",
        "        x = self.layer6(x)\n",
        "        self.gradient_normalization_layer(x)\n",
        "        x = nn.Sigmoid()(x)\n",
        "        x = self.layer7(x)\n",
        "        self.gradient_normalization_layer(x)\n",
        "        x = nn.Sigmoid()(x)\n",
        "        out = self.output(x)\n",
        "\n",
        "        return out\n",
        "\n",
        "\n",
        "input_dims = 784\n",
        "hidden_dims = 128\n",
        "output_dims = 10\n",
        "lr = 1e-2\n",
        "model = MLP(input_dims=input_dims, hidden_dims=hidden_dims,\n",
        "            output_dims=output_dims).to(device)\n",
        "\n",
        "criterion = nn.CrossEntropyLoss()\n",
        "optimizer = optim.SGD(model.parameters(), lr=lr)"
      ],
      "metadata": {
        "id": "FiKVsHGkOVAE"
      },
      "execution_count": null,
      "outputs": []
    },
    {
      "cell_type": "markdown",
      "source": [
        "### Train model"
      ],
      "metadata": {
        "id": "-btcv2x6OXuR"
      }
    },
    {
      "cell_type": "code",
      "source": [
        "\n",
        "# train model\n",
        "epochs = 100\n",
        "train_loss_lst = []\n",
        "train_acc_lst = []\n",
        "val_loss_lst = []\n",
        "val_acc_lst = []\n",
        "for epoch in range(epochs):\n",
        "    train_loss = 0.0\n",
        "    train_acc = 0.0\n",
        "    count = 0\n",
        "\n",
        "    model.train()\n",
        "    for X_train, y_train in train_loader:\n",
        "        X_train, y_train = X_train.to(device), y_train.to(device)\n",
        "        optimizer.zero_grad()\n",
        "        outputs = model(X_train)\n",
        "        loss = criterion(outputs, y_train)\n",
        "        loss.backward()\n",
        "        optimizer.step()\n",
        "        train_loss += loss.item()\n",
        "        train_acc += (torch.argmax(outputs, 1) == y_train).sum().item()\n",
        "        count += len(y_train)\n",
        "\n",
        "    train_loss /= len(train_loader)\n",
        "    train_loss_lst.append(train_loss)\n",
        "\n",
        "    train_acc /= count\n",
        "    train_acc_lst.append(train_acc)\n",
        "\n",
        "    val_loss = 0.0\n",
        "    val_acc = 0.0\n",
        "    count = 0\n",
        "    model.eval()\n",
        "    with torch.no_grad():\n",
        "        for X_val, y_val in val_loader:\n",
        "            X_val, y_val = X_val.to(device), y_val.to(device)\n",
        "            outputs = model(X_val)\n",
        "            loss = criterion(outputs, y_val)\n",
        "            val_loss += loss.item()\n",
        "            val_acc += (torch.argmax(outputs, 1) == y_val).sum().item()\n",
        "            count += len(y_val)\n",
        "\n",
        "    val_loss /= len(val_loader)\n",
        "    val_loss_lst.append(val_loss)\n",
        "\n",
        "    val_acc /= count\n",
        "    val_acc_lst.append(val_acc)\n",
        "    print(f\"Epoch {epoch + 1} / {epochs}, train_loss: {train_loss: .4f}, train_acc:{train_acc: .4f}, validation loss: {val_loss: .4f}, val_acc: {val_acc: .4f}\")"
      ],
      "metadata": {
        "colab": {
          "base_uri": "https://localhost:8080/"
        },
        "id": "dVzLrHntOXKt",
        "outputId": "943b9833-e69c-4830-c022-9ce022ae1758"
      },
      "execution_count": null,
      "outputs": [
        {
          "output_type": "stream",
          "name": "stdout",
          "text": [
            "Epoch 1 / 100, train_loss:  3.4989, train_acc: 0.2069, validation loss:  2.1671, val_acc:  0.2975\n",
            "Epoch 2 / 100, train_loss:  1.9212, train_acc: 0.3618, validation loss:  1.7978, val_acc:  0.3960\n",
            "Epoch 3 / 100, train_loss:  1.6570, train_acc: 0.4367, validation loss:  1.6045, val_acc:  0.4567\n",
            "Epoch 4 / 100, train_loss:  1.5067, train_acc: 0.4805, validation loss:  1.4864, val_acc:  0.4860\n",
            "Epoch 5 / 100, train_loss:  1.4098, train_acc: 0.5068, validation loss:  1.4059, val_acc:  0.5132\n",
            "Epoch 6 / 100, train_loss:  1.3395, train_acc: 0.5292, validation loss:  1.3453, val_acc:  0.5280\n",
            "Epoch 7 / 100, train_loss:  1.2854, train_acc: 0.5455, validation loss:  1.2989, val_acc:  0.5418\n",
            "Epoch 8 / 100, train_loss:  1.2404, train_acc: 0.5598, validation loss:  1.2594, val_acc:  0.5542\n",
            "Epoch 9 / 100, train_loss:  1.2029, train_acc: 0.5720, validation loss:  1.2249, val_acc:  0.5655\n",
            "Epoch 10 / 100, train_loss:  1.1710, train_acc: 0.5828, validation loss:  1.1949, val_acc:  0.5743\n",
            "Epoch 11 / 100, train_loss:  1.1440, train_acc: 0.5933, validation loss:  1.1695, val_acc:  0.5813\n",
            "Epoch 12 / 100, train_loss:  1.1174, train_acc: 0.6009, validation loss:  1.1450, val_acc:  0.5925\n",
            "Epoch 13 / 100, train_loss:  1.0952, train_acc: 0.6086, validation loss:  1.1226, val_acc:  0.6013\n",
            "Epoch 14 / 100, train_loss:  1.0740, train_acc: 0.6164, validation loss:  1.1037, val_acc:  0.6080\n",
            "Epoch 15 / 100, train_loss:  1.0557, train_acc: 0.6227, validation loss:  1.0851, val_acc:  0.6132\n",
            "Epoch 16 / 100, train_loss:  1.0385, train_acc: 0.6286, validation loss:  1.0683, val_acc:  0.6210\n",
            "Epoch 17 / 100, train_loss:  1.0228, train_acc: 0.6339, validation loss:  1.0529, val_acc:  0.6265\n",
            "Epoch 18 / 100, train_loss:  1.0079, train_acc: 0.6391, validation loss:  1.0391, val_acc:  0.6268\n",
            "Epoch 19 / 100, train_loss:  0.9938, train_acc: 0.6431, validation loss:  1.0246, val_acc:  0.6335\n",
            "Epoch 20 / 100, train_loss:  0.9812, train_acc: 0.6480, validation loss:  1.0118, val_acc:  0.6395\n",
            "Epoch 21 / 100, train_loss:  0.9693, train_acc: 0.6527, validation loss:  1.0001, val_acc:  0.6428\n",
            "Epoch 22 / 100, train_loss:  0.9575, train_acc: 0.6563, validation loss:  0.9888, val_acc:  0.6457\n",
            "Epoch 23 / 100, train_loss:  0.9472, train_acc: 0.6603, validation loss:  0.9793, val_acc:  0.6497\n",
            "Epoch 24 / 100, train_loss:  0.9373, train_acc: 0.6631, validation loss:  0.9695, val_acc:  0.6528\n",
            "Epoch 25 / 100, train_loss:  0.9283, train_acc: 0.6660, validation loss:  0.9599, val_acc:  0.6585\n",
            "Epoch 26 / 100, train_loss:  0.9189, train_acc: 0.6681, validation loss:  0.9510, val_acc:  0.6592\n",
            "Epoch 27 / 100, train_loss:  0.9112, train_acc: 0.6716, validation loss:  0.9435, val_acc:  0.6617\n",
            "Epoch 28 / 100, train_loss:  0.9030, train_acc: 0.6744, validation loss:  0.9360, val_acc:  0.6637\n",
            "Epoch 29 / 100, train_loss:  0.8946, train_acc: 0.6761, validation loss:  0.9289, val_acc:  0.6638\n",
            "Epoch 30 / 100, train_loss:  0.8885, train_acc: 0.6786, validation loss:  0.9221, val_acc:  0.6660\n",
            "Epoch 31 / 100, train_loss:  0.8817, train_acc: 0.6812, validation loss:  0.9161, val_acc:  0.6698\n",
            "Epoch 32 / 100, train_loss:  0.8748, train_acc: 0.6836, validation loss:  0.9101, val_acc:  0.6705\n",
            "Epoch 33 / 100, train_loss:  0.8687, train_acc: 0.6856, validation loss:  0.9043, val_acc:  0.6733\n",
            "Epoch 34 / 100, train_loss:  0.8630, train_acc: 0.6875, validation loss:  0.8985, val_acc:  0.6753\n",
            "Epoch 35 / 100, train_loss:  0.8570, train_acc: 0.6894, validation loss:  0.8925, val_acc:  0.6792\n",
            "Epoch 36 / 100, train_loss:  0.8524, train_acc: 0.6917, validation loss:  0.8877, val_acc:  0.6815\n",
            "Epoch 37 / 100, train_loss:  0.8473, train_acc: 0.6936, validation loss:  0.8825, val_acc:  0.6847\n",
            "Epoch 38 / 100, train_loss:  0.8417, train_acc: 0.6955, validation loss:  0.8785, val_acc:  0.6853\n",
            "Epoch 39 / 100, train_loss:  0.8368, train_acc: 0.6964, validation loss:  0.8737, val_acc:  0.6873\n",
            "Epoch 40 / 100, train_loss:  0.8318, train_acc: 0.6984, validation loss:  0.8697, val_acc:  0.6878\n",
            "Epoch 41 / 100, train_loss:  0.8276, train_acc: 0.7005, validation loss:  0.8659, val_acc:  0.6888\n",
            "Epoch 42 / 100, train_loss:  0.8234, train_acc: 0.7016, validation loss:  0.8613, val_acc:  0.6918\n",
            "Epoch 43 / 100, train_loss:  0.8193, train_acc: 0.7028, validation loss:  0.8576, val_acc:  0.6938\n",
            "Epoch 44 / 100, train_loss:  0.8147, train_acc: 0.7041, validation loss:  0.8538, val_acc:  0.6943\n",
            "Epoch 45 / 100, train_loss:  0.8106, train_acc: 0.7061, validation loss:  0.8507, val_acc:  0.6945\n",
            "Epoch 46 / 100, train_loss:  0.8072, train_acc: 0.7073, validation loss:  0.8463, val_acc:  0.6973\n",
            "Epoch 47 / 100, train_loss:  0.8033, train_acc: 0.7091, validation loss:  0.8432, val_acc:  0.6993\n",
            "Epoch 48 / 100, train_loss:  0.7998, train_acc: 0.7097, validation loss:  0.8397, val_acc:  0.6993\n",
            "Epoch 49 / 100, train_loss:  0.7970, train_acc: 0.7107, validation loss:  0.8368, val_acc:  0.7013\n",
            "Epoch 50 / 100, train_loss:  0.7930, train_acc: 0.7125, validation loss:  0.8335, val_acc:  0.7008\n",
            "Epoch 51 / 100, train_loss:  0.7894, train_acc: 0.7138, validation loss:  0.8307, val_acc:  0.7030\n",
            "Epoch 52 / 100, train_loss:  0.7869, train_acc: 0.7145, validation loss:  0.8280, val_acc:  0.7037\n",
            "Epoch 53 / 100, train_loss:  0.7831, train_acc: 0.7157, validation loss:  0.8254, val_acc:  0.7052\n",
            "Epoch 54 / 100, train_loss:  0.7796, train_acc: 0.7170, validation loss:  0.8222, val_acc:  0.7060\n",
            "Epoch 55 / 100, train_loss:  0.7765, train_acc: 0.7179, validation loss:  0.8198, val_acc:  0.7063\n",
            "Epoch 56 / 100, train_loss:  0.7735, train_acc: 0.7188, validation loss:  0.8178, val_acc:  0.7080\n",
            "Epoch 57 / 100, train_loss:  0.7715, train_acc: 0.7203, validation loss:  0.8145, val_acc:  0.7053\n",
            "Epoch 58 / 100, train_loss:  0.7684, train_acc: 0.7215, validation loss:  0.8120, val_acc:  0.7093\n",
            "Epoch 59 / 100, train_loss:  0.7657, train_acc: 0.7224, validation loss:  0.8089, val_acc:  0.7100\n",
            "Epoch 60 / 100, train_loss:  0.7631, train_acc: 0.7233, validation loss:  0.8066, val_acc:  0.7103\n",
            "Epoch 61 / 100, train_loss:  0.7599, train_acc: 0.7245, validation loss:  0.8044, val_acc:  0.7102\n",
            "Epoch 62 / 100, train_loss:  0.7572, train_acc: 0.7253, validation loss:  0.8024, val_acc:  0.7132\n",
            "Epoch 63 / 100, train_loss:  0.7549, train_acc: 0.7265, validation loss:  0.8009, val_acc:  0.7145\n",
            "Epoch 64 / 100, train_loss:  0.7521, train_acc: 0.7277, validation loss:  0.7979, val_acc:  0.7142\n",
            "Epoch 65 / 100, train_loss:  0.7501, train_acc: 0.7282, validation loss:  0.7951, val_acc:  0.7147\n",
            "Epoch 66 / 100, train_loss:  0.7475, train_acc: 0.7294, validation loss:  0.7938, val_acc:  0.7157\n",
            "Epoch 67 / 100, train_loss:  0.7453, train_acc: 0.7301, validation loss:  0.7914, val_acc:  0.7170\n",
            "Epoch 68 / 100, train_loss:  0.7428, train_acc: 0.7308, validation loss:  0.7896, val_acc:  0.7183\n",
            "Epoch 69 / 100, train_loss:  0.7407, train_acc: 0.7315, validation loss:  0.7875, val_acc:  0.7177\n",
            "Epoch 70 / 100, train_loss:  0.7385, train_acc: 0.7322, validation loss:  0.7848, val_acc:  0.7177\n",
            "Epoch 71 / 100, train_loss:  0.7366, train_acc: 0.7339, validation loss:  0.7838, val_acc:  0.7225\n",
            "Epoch 72 / 100, train_loss:  0.7343, train_acc: 0.7341, validation loss:  0.7809, val_acc:  0.7198\n",
            "Epoch 73 / 100, train_loss:  0.7320, train_acc: 0.7349, validation loss:  0.7801, val_acc:  0.7220\n",
            "Epoch 74 / 100, train_loss:  0.7302, train_acc: 0.7358, validation loss:  0.7779, val_acc:  0.7223\n",
            "Epoch 75 / 100, train_loss:  0.7277, train_acc: 0.7364, validation loss:  0.7765, val_acc:  0.7228\n",
            "Epoch 76 / 100, train_loss:  0.7263, train_acc: 0.7364, validation loss:  0.7736, val_acc:  0.7235\n",
            "Epoch 77 / 100, train_loss:  0.7241, train_acc: 0.7378, validation loss:  0.7729, val_acc:  0.7243\n",
            "Epoch 78 / 100, train_loss:  0.7222, train_acc: 0.7383, validation loss:  0.7701, val_acc:  0.7243\n",
            "Epoch 79 / 100, train_loss:  0.7205, train_acc: 0.7389, validation loss:  0.7685, val_acc:  0.7255\n",
            "Epoch 80 / 100, train_loss:  0.7182, train_acc: 0.7391, validation loss:  0.7668, val_acc:  0.7247\n",
            "Epoch 81 / 100, train_loss:  0.7171, train_acc: 0.7406, validation loss:  0.7651, val_acc:  0.7268\n",
            "Epoch 82 / 100, train_loss:  0.7151, train_acc: 0.7408, validation loss:  0.7645, val_acc:  0.7277\n",
            "Epoch 83 / 100, train_loss:  0.7130, train_acc: 0.7419, validation loss:  0.7626, val_acc:  0.7280\n",
            "Epoch 84 / 100, train_loss:  0.7111, train_acc: 0.7415, validation loss:  0.7602, val_acc:  0.7282\n",
            "Epoch 85 / 100, train_loss:  0.7095, train_acc: 0.7430, validation loss:  0.7589, val_acc:  0.7293\n",
            "Epoch 86 / 100, train_loss:  0.7081, train_acc: 0.7431, validation loss:  0.7575, val_acc:  0.7293\n",
            "Epoch 87 / 100, train_loss:  0.7058, train_acc: 0.7437, validation loss:  0.7563, val_acc:  0.7297\n",
            "Epoch 88 / 100, train_loss:  0.7044, train_acc: 0.7443, validation loss:  0.7544, val_acc:  0.7307\n",
            "Epoch 89 / 100, train_loss:  0.7030, train_acc: 0.7449, validation loss:  0.7533, val_acc:  0.7307\n",
            "Epoch 90 / 100, train_loss:  0.7013, train_acc: 0.7456, validation loss:  0.7517, val_acc:  0.7307\n",
            "Epoch 91 / 100, train_loss:  0.7002, train_acc: 0.7460, validation loss:  0.7504, val_acc:  0.7333\n",
            "Epoch 92 / 100, train_loss:  0.6985, train_acc: 0.7469, validation loss:  0.7484, val_acc:  0.7338\n",
            "Epoch 93 / 100, train_loss:  0.6969, train_acc: 0.7474, validation loss:  0.7470, val_acc:  0.7333\n",
            "Epoch 94 / 100, train_loss:  0.6949, train_acc: 0.7474, validation loss:  0.7463, val_acc:  0.7323\n",
            "Epoch 95 / 100, train_loss:  0.6940, train_acc: 0.7486, validation loss:  0.7443, val_acc:  0.7348\n",
            "Epoch 96 / 100, train_loss:  0.6922, train_acc: 0.7486, validation loss:  0.7432, val_acc:  0.7353\n",
            "Epoch 97 / 100, train_loss:  0.6908, train_acc: 0.7492, validation loss:  0.7422, val_acc:  0.7340\n",
            "Epoch 98 / 100, train_loss:  0.6896, train_acc: 0.7496, validation loss:  0.7409, val_acc:  0.7357\n",
            "Epoch 99 / 100, train_loss:  0.6876, train_acc: 0.7500, validation loss:  0.7398, val_acc:  0.7357\n",
            "Epoch 100 / 100, train_loss:  0.6866, train_acc: 0.7506, validation loss:  0.7387, val_acc:  0.7377\n"
          ]
        }
      ]
    },
    {
      "cell_type": "markdown",
      "source": [
        "### Present results"
      ],
      "metadata": {
        "id": "huOhLTI4Obx4"
      }
    },
    {
      "cell_type": "code",
      "source": [
        "# Present results\n",
        "fig, ax = plt.subplots(2, 2, figsize=(12, 10))\n",
        "ax[0, 0].plot(train_loss_lst, color='green')\n",
        "ax[0, 0].set(xlabel='Epoch', ylabel='Loss')\n",
        "ax[0, 0].set_title('Training Loss')\n",
        "\n",
        "ax[0, 1].plot(val_loss_lst, color='orange')\n",
        "ax[0, 1].set(xlabel='Epoch', ylabel='Loss')\n",
        "ax[0, 1].set_title('Validation Loss')\n",
        "\n",
        "ax[1, 0].plot(train_acc_lst, color='green')\n",
        "ax[1, 0].set(xlabel='Epoch', ylabel='Accuracy')\n",
        "ax[1, 0].set_title('Training Accuracy')\n",
        "\n",
        "ax[1, 1].plot(val_acc_lst, color='orange')\n",
        "ax[1, 1].set(xlabel='Epoch', ylabel='Accuracy')\n",
        "ax[1, 1].set_title('Validation Accuracy')\n",
        "\n",
        "plt.show()"
      ],
      "metadata": {
        "colab": {
          "base_uri": "https://localhost:8080/",
          "height": 872
        },
        "id": "DxZ6fooWOfv6",
        "outputId": "a3b4e5a5-f3be-4287-8504-a335f3a57751"
      },
      "execution_count": null,
      "outputs": [
        {
          "output_type": "display_data",
          "data": {
            "text/plain": [
              "<Figure size 1200x1000 with 4 Axes>"
            ],
            "image/png": "[encoded data removed]"
          },
          "metadata": {}
        }
      ]
    },
    {
      "cell_type": "markdown",
      "source": [
        "### Evaluation"
      ],
      "metadata": {
        "id": "_8Tu9D3jOmX3"
      }
    },
    {
      "cell_type": "code",
      "source": [
        "# Evaluation\n",
        "test_target = []\n",
        "test_predict = []\n",
        "model.eval()\n",
        "with torch.no_grad():\n",
        "    for X_test, y_test in test_loader:\n",
        "        X_test, y_test = X_test.to(device), y_test.to(device)\n",
        "        outputs = model(X_test)\n",
        "\n",
        "        test_predict.append(outputs.cpu())\n",
        "        test_target.append(y_test.cpu())\n",
        "\n",
        "    test_predict = torch.cat(test_predict)\n",
        "    test_target = torch.cat(test_target)\n",
        "    test_acc = (torch.argmax(test_predict, 1) ==\n",
        "                test_target).sum().item()/len(test_target)\n",
        "\n",
        "    print(f\"Accuracy: {test_acc}\")\n",
        "    print(\"============================================================\")"
      ],
      "metadata": {
        "colab": {
          "base_uri": "https://localhost:8080/"
        },
        "id": "JavoJlydOoVZ",
        "outputId": "fd408c57-cc85-418e-a81d-2a7603445d1f"
      },
      "execution_count": null,
      "outputs": [
        {
          "output_type": "stream",
          "name": "stdout",
          "text": [
            "Accuracy: 0.7337\n",
            "============================================================\n"
          ]
        }
      ]
    }
  ]
}