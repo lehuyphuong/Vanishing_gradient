{
  "nbformat": 4,
  "nbformat_minor": 0,
  "metadata": {
    "colab": {
      "provenance": [],
      "mount_file_id": "1DzlVdJdns9H3iKjWcQSskEETB-YTk0WN",
      "authorship_tag": "ABX9TyODaCmg6fd76c8+WWGJdmvM",
      "include_colab_link": true
    },
    "kernelspec": {
      "name": "python3",
      "display_name": "Python 3"
    },
    "language_info": {
      "name": "python"
    }
  },
  "cells": [
    {
      "cell_type": "markdown",
      "metadata": {
        "id": "view-in-github",
        "colab_type": "text"
      },
      "source": [
        "<a href=\"https://colab.research.google.com/github/lehuyphuong/Vanishing_gradient/blob/feature%2Fadd_solution_project_vanishing_gradient/model_updated_by_change_activation_function.ipynb\" target=\"_parent\"><img src=\"https://colab.research.google.com/assets/colab-badge.svg\" alt=\"Open In Colab\"/></a>"
      ]
    },
    {
      "cell_type": "markdown",
      "source": [
        "### Import library"
      ],
      "metadata": {
        "id": "AHf5TGR_ODqT"
      }
    },
    {
      "cell_type": "code",
      "source": [
        "import random\n",
        "import torch\n",
        "import torch.optim as optim\n",
        "import torchvision\n",
        "import torchvision.transforms as transforms\n",
        "from torch import nn\n",
        "from torch.utils.data import Dataset, DataLoader, random_split\n",
        "from torchvision.datasets import FashionMNIST\n",
        "import numpy as np\n",
        "import matplotlib.pyplot as plt"
      ],
      "metadata": {
        "id": "YbXMEdaGODfZ"
      },
      "execution_count": null,
      "outputs": []
    },
    {
      "cell_type": "markdown",
      "source": [
        "### Set up random seed"
      ],
      "metadata": {
        "id": "Yjh9LMldOJa-"
      }
    },
    {
      "cell_type": "code",
      "source": [
        "def set_seed(seed):\n",
        "    random.seed(seed)\n",
        "    np.random.seed(seed)\n",
        "    torch.manual_seed(seed)\n",
        "    torch.cuda.manual_seed(seed)\n",
        "    torch.cuda.manual_seed_all(seed)\n",
        "    torch.backends.cudnn.deterministic = True\n",
        "    torch.backends.cudnn.benchmark = False\n",
        "\n",
        "\n",
        "SEED = 42\n",
        "set_seed(SEED)"
      ],
      "metadata": {
        "id": "BBUK9NxWOJFN"
      },
      "execution_count": null,
      "outputs": []
    },
    {
      "cell_type": "markdown",
      "source": [
        "### Download dataset"
      ],
      "metadata": {
        "id": "4H0aMCCFN6LW"
      }
    },
    {
      "cell_type": "code",
      "execution_count": null,
      "metadata": {
        "id": "GnAqdJeHN4E1",
        "colab": {
          "base_uri": "https://localhost:8080/"
        },
        "outputId": "daa80251-5cac-4c93-91b0-bbf8a69a1e1f"
      },
      "outputs": [
        {
          "output_type": "stream",
          "name": "stdout",
          "text": [
            "Downloading http://fashion-mnist.s3-website.eu-central-1.amazonaws.com/train-images-idx3-ubyte.gz\n",
            "Downloading http://fashion-mnist.s3-website.eu-central-1.amazonaws.com/train-images-idx3-ubyte.gz to /content/drive/MyDrive/AIO_2024/Module_5/Week_4/data/FashionMNIST/raw/train-images-idx3-ubyte.gz\n"
          ]
        },
        {
          "output_type": "stream",
          "name": "stderr",
          "text": [
            "100%|██████████| 26.4M/26.4M [00:02<00:00, 12.4MB/s]\n"
          ]
        },
        {
          "output_type": "stream",
          "name": "stdout",
          "text": [
            "Extracting /content/drive/MyDrive/AIO_2024/Module_5/Week_4/data/FashionMNIST/raw/train-images-idx3-ubyte.gz to /content/drive/MyDrive/AIO_2024/Module_5/Week_4/data/FashionMNIST/raw\n",
            "\n",
            "Downloading http://fashion-mnist.s3-website.eu-central-1.amazonaws.com/train-labels-idx1-ubyte.gz\n",
            "Downloading http://fashion-mnist.s3-website.eu-central-1.amazonaws.com/train-labels-idx1-ubyte.gz to /content/drive/MyDrive/AIO_2024/Module_5/Week_4/data/FashionMNIST/raw/train-labels-idx1-ubyte.gz\n"
          ]
        },
        {
          "output_type": "stream",
          "name": "stderr",
          "text": [
            "100%|██████████| 29.5k/29.5k [00:00<00:00, 212kB/s]\n"
          ]
        },
        {
          "output_type": "stream",
          "name": "stdout",
          "text": [
            "Extracting /content/drive/MyDrive/AIO_2024/Module_5/Week_4/data/FashionMNIST/raw/train-labels-idx1-ubyte.gz to /content/drive/MyDrive/AIO_2024/Module_5/Week_4/data/FashionMNIST/raw\n",
            "\n",
            "Downloading http://fashion-mnist.s3-website.eu-central-1.amazonaws.com/t10k-images-idx3-ubyte.gz\n",
            "Downloading http://fashion-mnist.s3-website.eu-central-1.amazonaws.com/t10k-images-idx3-ubyte.gz to /content/drive/MyDrive/AIO_2024/Module_5/Week_4/data/FashionMNIST/raw/t10k-images-idx3-ubyte.gz\n"
          ]
        },
        {
          "output_type": "stream",
          "name": "stderr",
          "text": [
            "100%|██████████| 4.42M/4.42M [00:01<00:00, 3.62MB/s]\n"
          ]
        },
        {
          "output_type": "stream",
          "name": "stdout",
          "text": [
            "Extracting /content/drive/MyDrive/AIO_2024/Module_5/Week_4/data/FashionMNIST/raw/t10k-images-idx3-ubyte.gz to /content/drive/MyDrive/AIO_2024/Module_5/Week_4/data/FashionMNIST/raw\n",
            "\n",
            "Downloading http://fashion-mnist.s3-website.eu-central-1.amazonaws.com/t10k-labels-idx1-ubyte.gz\n",
            "Downloading http://fashion-mnist.s3-website.eu-central-1.amazonaws.com/t10k-labels-idx1-ubyte.gz to /content/drive/MyDrive/AIO_2024/Module_5/Week_4/data/FashionMNIST/raw/t10k-labels-idx1-ubyte.gz\n"
          ]
        },
        {
          "output_type": "stream",
          "name": "stderr",
          "text": [
            "100%|██████████| 5.15k/5.15k [00:00<00:00, 3.38MB/s]"
          ]
        },
        {
          "output_type": "stream",
          "name": "stdout",
          "text": [
            "Extracting /content/drive/MyDrive/AIO_2024/Module_5/Week_4/data/FashionMNIST/raw/t10k-labels-idx1-ubyte.gz to /content/drive/MyDrive/AIO_2024/Module_5/Week_4/data/FashionMNIST/raw\n",
            "\n"
          ]
        },
        {
          "output_type": "stream",
          "name": "stderr",
          "text": [
            "\n"
          ]
        }
      ],
      "source": [
        "# download dataset\n",
        "train_dataset = FashionMNIST('/content/drive/MyDrive/AIO_2024/Module_5/Week_4/data', train=True,\n",
        "                             download=True,\n",
        "                             transform=transforms.ToTensor())\n",
        "\n",
        "test_dataset = FashionMNIST('/content/drive/MyDrive/AIO_2024/Module_5/Week_4/data', train=False,\n",
        "                            download=True,\n",
        "                            transform=transforms.ToTensor())\n"
      ]
    },
    {
      "cell_type": "markdown",
      "source": [
        "### Split dataset"
      ],
      "metadata": {
        "id": "rkvrX_plOOtL"
      }
    },
    {
      "cell_type": "code",
      "source": [
        "batch_size = 512\n",
        "\n",
        "\n",
        "train_ratio = 0.9\n",
        "train_size = int(len(train_dataset)*train_ratio)\n",
        "val_size = len(train_dataset) - train_size\n",
        "\n",
        "train_subnet, val_subnet = random_split(train_dataset, [train_size, val_size])\n",
        "train_loader = DataLoader(train_subnet, batch_size=batch_size, shuffle=True)\n",
        "\n",
        "val_loader = DataLoader(val_subnet, batch_size=batch_size, shuffle=False)\n",
        "test_loader = DataLoader(test_dataset, batch_size=batch_size, shuffle=False)\n",
        "\n",
        "print(f\"Train size: {len(train_subnet)}\")\n",
        "print(f\"Val size: {len(val_subnet)}\")\n",
        "print(f\"Test size: {len(test_dataset)}\")"
      ],
      "metadata": {
        "colab": {
          "base_uri": "https://localhost:8080/"
        },
        "id": "J2HmJf3eOR8v",
        "outputId": "fddf0304-8c63-4ffb-a64e-b0d09441f673"
      },
      "execution_count": null,
      "outputs": [
        {
          "output_type": "stream",
          "name": "stdout",
          "text": [
            "Train size: 54000\n",
            "Val size: 6000\n",
            "Test size: 10000\n"
          ]
        }
      ]
    },
    {
      "cell_type": "markdown",
      "source": [
        "### Define model"
      ],
      "metadata": {
        "id": "g5HC44eHOTrk"
      }
    },
    {
      "cell_type": "code",
      "source": [
        "device = torch.device('cuda:0' if torch.cuda.is_available() else 'cpu')\n",
        "class MLP(nn.Module):\n",
        "    def __init__(self, input_dims, hidden_dims, output_dims):\n",
        "        super().__init__()\n",
        "        self.layer1 = nn.Linear(input_dims, hidden_dims)\n",
        "        self.layer2 = nn.Linear(hidden_dims, hidden_dims)\n",
        "        self.layer3 = nn.Linear(hidden_dims, hidden_dims)\n",
        "        self.layer4 = nn.Linear(hidden_dims, hidden_dims)\n",
        "        self.layer5 = nn.Linear(hidden_dims, hidden_dims)\n",
        "        self.layer6 = nn.Linear(hidden_dims, hidden_dims)\n",
        "        self.layer7 = nn.Linear(hidden_dims, hidden_dims)\n",
        "        self.output = nn.Linear(hidden_dims, output_dims)\n",
        "\n",
        "        # Increase Weight method\n",
        "        for module in self.modules():\n",
        "          if isinstance(module, nn.Linear):\n",
        "            nn.init.normal_(module.weight, mean=0.0, std=1.0)\n",
        "            nn.init.constant_(module.bias, 0.0)\n",
        "\n",
        "    def forward(self, x):\n",
        "        x = nn.Flatten()(x)\n",
        "        x = self.layer1(x)\n",
        "        x = nn.ReLU()(x)\n",
        "        x = self.layer2(x)\n",
        "        x = nn.ReLU()(x)\n",
        "        x = self.layer3(x)\n",
        "        x = nn.ReLU()(x)\n",
        "        x = self.layer4(x)\n",
        "        x = nn.ReLU()(x)\n",
        "        x = self.layer5(x)\n",
        "        x = nn.ReLU()(x)\n",
        "        x = self.layer6(x)\n",
        "        x = nn.ReLU()(x)\n",
        "        x = self.layer7(x)\n",
        "        x = nn.ReLU()(x)\n",
        "        out = self.output(x)\n",
        "\n",
        "        return out\n",
        "\n",
        "\n",
        "input_dims = 784\n",
        "hidden_dims = 128\n",
        "output_dims = 10\n",
        "lr = 1e-2\n",
        "model = MLP(input_dims=input_dims, hidden_dims=hidden_dims,\n",
        "            output_dims=output_dims).to(device)\n",
        "\n",
        "criterion = nn.CrossEntropyLoss()\n",
        "optimizer = optim.SGD(model.parameters(), lr=lr)"
      ],
      "metadata": {
        "id": "FiKVsHGkOVAE"
      },
      "execution_count": null,
      "outputs": []
    },
    {
      "cell_type": "markdown",
      "source": [
        "### Train model"
      ],
      "metadata": {
        "id": "-btcv2x6OXuR"
      }
    },
    {
      "cell_type": "code",
      "source": [
        "\n",
        "# train model\n",
        "epochs = 100\n",
        "train_loss_lst = []\n",
        "train_acc_lst = []\n",
        "val_loss_lst = []\n",
        "val_acc_lst = []\n",
        "for epoch in range(epochs):\n",
        "    train_loss = 0.0\n",
        "    train_acc = 0.0\n",
        "    count = 0\n",
        "\n",
        "    model.train()\n",
        "    for X_train, y_train in train_loader:\n",
        "        X_train, y_train = X_train.to(device), y_train.to(device)\n",
        "        optimizer.zero_grad()\n",
        "        outputs = model(X_train)\n",
        "        loss = criterion(outputs, y_train)\n",
        "        loss.backward()\n",
        "        optimizer.step()\n",
        "        train_loss += loss.item()\n",
        "        train_acc += (torch.argmax(outputs, 1) == y_train).sum().item()\n",
        "        count += len(y_train)\n",
        "\n",
        "    train_loss /= len(train_loader)\n",
        "    train_loss_lst.append(train_loss)\n",
        "\n",
        "    train_acc /= count\n",
        "    train_acc_lst.append(train_acc)\n",
        "\n",
        "    val_loss = 0.0\n",
        "    val_acc = 0.0\n",
        "    count = 0\n",
        "    model.eval()\n",
        "    with torch.no_grad():\n",
        "        for X_val, y_val in val_loader:\n",
        "            X_val, y_val = X_val.to(device), y_val.to(device)\n",
        "            outputs = model(X_val)\n",
        "            loss = criterion(outputs, y_val)\n",
        "            val_loss += loss.item()\n",
        "            val_acc += (torch.argmax(outputs, 1) == y_val).sum().item()\n",
        "            count += len(y_val)\n",
        "\n",
        "    val_loss /= len(val_loader)\n",
        "    val_loss_lst.append(val_loss)\n",
        "\n",
        "    val_acc /= count\n",
        "    val_acc_lst.append(val_acc)\n",
        "    print(f\"Epoch {epoch + 1} / {epochs}, train_loss: {train_loss: .4f}, train_acc:{train_acc: .4f}, validation loss: {val_loss: .4f}, val_acc: {val_acc: .4f}\")"
      ],
      "metadata": {
        "colab": {
          "base_uri": "https://localhost:8080/"
        },
        "id": "dVzLrHntOXKt",
        "outputId": "33f99aa4-0b9d-4371-ebb0-92589ce92d02"
      },
      "execution_count": null,
      "outputs": [
        {
          "output_type": "stream",
          "name": "stdout",
          "text": [
            "Epoch 1 / 100, train_loss:  nan, train_acc: 0.0988, validation loss:  nan, val_acc:  0.1097\n",
            "Epoch 2 / 100, train_loss:  nan, train_acc: 0.0989, validation loss:  nan, val_acc:  0.1097\n",
            "Epoch 3 / 100, train_loss:  nan, train_acc: 0.0989, validation loss:  nan, val_acc:  0.1097\n",
            "Epoch 4 / 100, train_loss:  nan, train_acc: 0.0989, validation loss:  nan, val_acc:  0.1097\n",
            "Epoch 5 / 100, train_loss:  nan, train_acc: 0.0989, validation loss:  nan, val_acc:  0.1097\n",
            "Epoch 6 / 100, train_loss:  nan, train_acc: 0.0989, validation loss:  nan, val_acc:  0.1097\n",
            "Epoch 7 / 100, train_loss:  nan, train_acc: 0.0989, validation loss:  nan, val_acc:  0.1097\n",
            "Epoch 8 / 100, train_loss:  nan, train_acc: 0.0989, validation loss:  nan, val_acc:  0.1097\n",
            "Epoch 9 / 100, train_loss:  nan, train_acc: 0.0989, validation loss:  nan, val_acc:  0.1097\n",
            "Epoch 10 / 100, train_loss:  nan, train_acc: 0.0989, validation loss:  nan, val_acc:  0.1097\n",
            "Epoch 11 / 100, train_loss:  nan, train_acc: 0.0989, validation loss:  nan, val_acc:  0.1097\n",
            "Epoch 12 / 100, train_loss:  nan, train_acc: 0.0989, validation loss:  nan, val_acc:  0.1097\n",
            "Epoch 13 / 100, train_loss:  nan, train_acc: 0.0989, validation loss:  nan, val_acc:  0.1097\n",
            "Epoch 14 / 100, train_loss:  nan, train_acc: 0.0989, validation loss:  nan, val_acc:  0.1097\n",
            "Epoch 15 / 100, train_loss:  nan, train_acc: 0.0989, validation loss:  nan, val_acc:  0.1097\n",
            "Epoch 16 / 100, train_loss:  nan, train_acc: 0.0989, validation loss:  nan, val_acc:  0.1097\n",
            "Epoch 17 / 100, train_loss:  nan, train_acc: 0.0989, validation loss:  nan, val_acc:  0.1097\n",
            "Epoch 18 / 100, train_loss:  nan, train_acc: 0.0989, validation loss:  nan, val_acc:  0.1097\n",
            "Epoch 19 / 100, train_loss:  nan, train_acc: 0.0989, validation loss:  nan, val_acc:  0.1097\n",
            "Epoch 20 / 100, train_loss:  nan, train_acc: 0.0989, validation loss:  nan, val_acc:  0.1097\n",
            "Epoch 21 / 100, train_loss:  nan, train_acc: 0.0989, validation loss:  nan, val_acc:  0.1097\n",
            "Epoch 22 / 100, train_loss:  nan, train_acc: 0.0989, validation loss:  nan, val_acc:  0.1097\n",
            "Epoch 23 / 100, train_loss:  nan, train_acc: 0.0989, validation loss:  nan, val_acc:  0.1097\n",
            "Epoch 24 / 100, train_loss:  nan, train_acc: 0.0989, validation loss:  nan, val_acc:  0.1097\n",
            "Epoch 25 / 100, train_loss:  nan, train_acc: 0.0989, validation loss:  nan, val_acc:  0.1097\n",
            "Epoch 26 / 100, train_loss:  nan, train_acc: 0.0989, validation loss:  nan, val_acc:  0.1097\n",
            "Epoch 27 / 100, train_loss:  nan, train_acc: 0.0989, validation loss:  nan, val_acc:  0.1097\n",
            "Epoch 28 / 100, train_loss:  nan, train_acc: 0.0989, validation loss:  nan, val_acc:  0.1097\n",
            "Epoch 29 / 100, train_loss:  nan, train_acc: 0.0989, validation loss:  nan, val_acc:  0.1097\n",
            "Epoch 30 / 100, train_loss:  nan, train_acc: 0.0989, validation loss:  nan, val_acc:  0.1097\n",
            "Epoch 31 / 100, train_loss:  nan, train_acc: 0.0989, validation loss:  nan, val_acc:  0.1097\n",
            "Epoch 32 / 100, train_loss:  nan, train_acc: 0.0989, validation loss:  nan, val_acc:  0.1097\n",
            "Epoch 33 / 100, train_loss:  nan, train_acc: 0.0989, validation loss:  nan, val_acc:  0.1097\n",
            "Epoch 34 / 100, train_loss:  nan, train_acc: 0.0989, validation loss:  nan, val_acc:  0.1097\n",
            "Epoch 35 / 100, train_loss:  nan, train_acc: 0.0989, validation loss:  nan, val_acc:  0.1097\n",
            "Epoch 36 / 100, train_loss:  nan, train_acc: 0.0989, validation loss:  nan, val_acc:  0.1097\n",
            "Epoch 37 / 100, train_loss:  nan, train_acc: 0.0989, validation loss:  nan, val_acc:  0.1097\n",
            "Epoch 38 / 100, train_loss:  nan, train_acc: 0.0989, validation loss:  nan, val_acc:  0.1097\n",
            "Epoch 39 / 100, train_loss:  nan, train_acc: 0.0989, validation loss:  nan, val_acc:  0.1097\n",
            "Epoch 40 / 100, train_loss:  nan, train_acc: 0.0989, validation loss:  nan, val_acc:  0.1097\n",
            "Epoch 41 / 100, train_loss:  nan, train_acc: 0.0989, validation loss:  nan, val_acc:  0.1097\n",
            "Epoch 42 / 100, train_loss:  nan, train_acc: 0.0989, validation loss:  nan, val_acc:  0.1097\n",
            "Epoch 43 / 100, train_loss:  nan, train_acc: 0.0989, validation loss:  nan, val_acc:  0.1097\n",
            "Epoch 44 / 100, train_loss:  nan, train_acc: 0.0989, validation loss:  nan, val_acc:  0.1097\n",
            "Epoch 45 / 100, train_loss:  nan, train_acc: 0.0989, validation loss:  nan, val_acc:  0.1097\n",
            "Epoch 46 / 100, train_loss:  nan, train_acc: 0.0989, validation loss:  nan, val_acc:  0.1097\n",
            "Epoch 47 / 100, train_loss:  nan, train_acc: 0.0989, validation loss:  nan, val_acc:  0.1097\n",
            "Epoch 48 / 100, train_loss:  nan, train_acc: 0.0989, validation loss:  nan, val_acc:  0.1097\n",
            "Epoch 49 / 100, train_loss:  nan, train_acc: 0.0989, validation loss:  nan, val_acc:  0.1097\n",
            "Epoch 50 / 100, train_loss:  nan, train_acc: 0.0989, validation loss:  nan, val_acc:  0.1097\n",
            "Epoch 51 / 100, train_loss:  nan, train_acc: 0.0989, validation loss:  nan, val_acc:  0.1097\n",
            "Epoch 52 / 100, train_loss:  nan, train_acc: 0.0989, validation loss:  nan, val_acc:  0.1097\n",
            "Epoch 53 / 100, train_loss:  nan, train_acc: 0.0989, validation loss:  nan, val_acc:  0.1097\n",
            "Epoch 54 / 100, train_loss:  nan, train_acc: 0.0989, validation loss:  nan, val_acc:  0.1097\n",
            "Epoch 55 / 100, train_loss:  nan, train_acc: 0.0989, validation loss:  nan, val_acc:  0.1097\n",
            "Epoch 56 / 100, train_loss:  nan, train_acc: 0.0989, validation loss:  nan, val_acc:  0.1097\n",
            "Epoch 57 / 100, train_loss:  nan, train_acc: 0.0989, validation loss:  nan, val_acc:  0.1097\n",
            "Epoch 58 / 100, train_loss:  nan, train_acc: 0.0989, validation loss:  nan, val_acc:  0.1097\n",
            "Epoch 59 / 100, train_loss:  nan, train_acc: 0.0989, validation loss:  nan, val_acc:  0.1097\n",
            "Epoch 60 / 100, train_loss:  nan, train_acc: 0.0989, validation loss:  nan, val_acc:  0.1097\n",
            "Epoch 61 / 100, train_loss:  nan, train_acc: 0.0989, validation loss:  nan, val_acc:  0.1097\n",
            "Epoch 62 / 100, train_loss:  nan, train_acc: 0.0989, validation loss:  nan, val_acc:  0.1097\n",
            "Epoch 63 / 100, train_loss:  nan, train_acc: 0.0989, validation loss:  nan, val_acc:  0.1097\n",
            "Epoch 64 / 100, train_loss:  nan, train_acc: 0.0989, validation loss:  nan, val_acc:  0.1097\n",
            "Epoch 65 / 100, train_loss:  nan, train_acc: 0.0989, validation loss:  nan, val_acc:  0.1097\n",
            "Epoch 66 / 100, train_loss:  nan, train_acc: 0.0989, validation loss:  nan, val_acc:  0.1097\n",
            "Epoch 67 / 100, train_loss:  nan, train_acc: 0.0989, validation loss:  nan, val_acc:  0.1097\n",
            "Epoch 68 / 100, train_loss:  nan, train_acc: 0.0989, validation loss:  nan, val_acc:  0.1097\n",
            "Epoch 69 / 100, train_loss:  nan, train_acc: 0.0989, validation loss:  nan, val_acc:  0.1097\n",
            "Epoch 70 / 100, train_loss:  nan, train_acc: 0.0989, validation loss:  nan, val_acc:  0.1097\n",
            "Epoch 71 / 100, train_loss:  nan, train_acc: 0.0989, validation loss:  nan, val_acc:  0.1097\n",
            "Epoch 72 / 100, train_loss:  nan, train_acc: 0.0989, validation loss:  nan, val_acc:  0.1097\n",
            "Epoch 73 / 100, train_loss:  nan, train_acc: 0.0989, validation loss:  nan, val_acc:  0.1097\n",
            "Epoch 74 / 100, train_loss:  nan, train_acc: 0.0989, validation loss:  nan, val_acc:  0.1097\n",
            "Epoch 75 / 100, train_loss:  nan, train_acc: 0.0989, validation loss:  nan, val_acc:  0.1097\n",
            "Epoch 76 / 100, train_loss:  nan, train_acc: 0.0989, validation loss:  nan, val_acc:  0.1097\n",
            "Epoch 77 / 100, train_loss:  nan, train_acc: 0.0989, validation loss:  nan, val_acc:  0.1097\n",
            "Epoch 78 / 100, train_loss:  nan, train_acc: 0.0989, validation loss:  nan, val_acc:  0.1097\n",
            "Epoch 79 / 100, train_loss:  nan, train_acc: 0.0989, validation loss:  nan, val_acc:  0.1097\n",
            "Epoch 80 / 100, train_loss:  nan, train_acc: 0.0989, validation loss:  nan, val_acc:  0.1097\n",
            "Epoch 81 / 100, train_loss:  nan, train_acc: 0.0989, validation loss:  nan, val_acc:  0.1097\n",
            "Epoch 82 / 100, train_loss:  nan, train_acc: 0.0989, validation loss:  nan, val_acc:  0.1097\n",
            "Epoch 83 / 100, train_loss:  nan, train_acc: 0.0989, validation loss:  nan, val_acc:  0.1097\n",
            "Epoch 84 / 100, train_loss:  nan, train_acc: 0.0989, validation loss:  nan, val_acc:  0.1097\n",
            "Epoch 85 / 100, train_loss:  nan, train_acc: 0.0989, validation loss:  nan, val_acc:  0.1097\n",
            "Epoch 86 / 100, train_loss:  nan, train_acc: 0.0989, validation loss:  nan, val_acc:  0.1097\n",
            "Epoch 87 / 100, train_loss:  nan, train_acc: 0.0989, validation loss:  nan, val_acc:  0.1097\n",
            "Epoch 88 / 100, train_loss:  nan, train_acc: 0.0989, validation loss:  nan, val_acc:  0.1097\n",
            "Epoch 89 / 100, train_loss:  nan, train_acc: 0.0989, validation loss:  nan, val_acc:  0.1097\n",
            "Epoch 90 / 100, train_loss:  nan, train_acc: 0.0989, validation loss:  nan, val_acc:  0.1097\n",
            "Epoch 91 / 100, train_loss:  nan, train_acc: 0.0989, validation loss:  nan, val_acc:  0.1097\n",
            "Epoch 92 / 100, train_loss:  nan, train_acc: 0.0989, validation loss:  nan, val_acc:  0.1097\n",
            "Epoch 93 / 100, train_loss:  nan, train_acc: 0.0989, validation loss:  nan, val_acc:  0.1097\n",
            "Epoch 94 / 100, train_loss:  nan, train_acc: 0.0989, validation loss:  nan, val_acc:  0.1097\n",
            "Epoch 95 / 100, train_loss:  nan, train_acc: 0.0989, validation loss:  nan, val_acc:  0.1097\n",
            "Epoch 96 / 100, train_loss:  nan, train_acc: 0.0989, validation loss:  nan, val_acc:  0.1097\n",
            "Epoch 97 / 100, train_loss:  nan, train_acc: 0.0989, validation loss:  nan, val_acc:  0.1097\n",
            "Epoch 98 / 100, train_loss:  nan, train_acc: 0.0989, validation loss:  nan, val_acc:  0.1097\n",
            "Epoch 99 / 100, train_loss:  nan, train_acc: 0.0989, validation loss:  nan, val_acc:  0.1097\n",
            "Epoch 100 / 100, train_loss:  nan, train_acc: 0.0989, validation loss:  nan, val_acc:  0.1097\n"
          ]
        }
      ]
    },
    {
      "cell_type": "markdown",
      "source": [
        "### Present results"
      ],
      "metadata": {
        "id": "huOhLTI4Obx4"
      }
    },
    {
      "cell_type": "code",
      "source": [
        "# Present results\n",
        "fig, ax = plt.subplots(2, 2, figsize=(12, 10))\n",
        "ax[0, 0].plot(train_loss_lst, color='green')\n",
        "ax[0, 0].set(xlabel='Epoch', ylabel='Loss')\n",
        "ax[0, 0].set_title('Training Loss')\n",
        "\n",
        "ax[0, 1].plot(val_loss_lst, color='orange')\n",
        "ax[0, 1].set(xlabel='Epoch', ylabel='Loss')\n",
        "ax[0, 1].set_title('Validation Loss')\n",
        "\n",
        "ax[1, 0].plot(train_acc_lst, color='green')\n",
        "ax[1, 0].set(xlabel='Epoch', ylabel='Accuracy')\n",
        "ax[1, 0].set_title('Training Accuracy')\n",
        "\n",
        "ax[1, 1].plot(val_acc_lst, color='orange')\n",
        "ax[1, 1].set(xlabel='Epoch', ylabel='Accuracy')\n",
        "ax[1, 1].set_title('Validation Accuracy')\n",
        "\n",
        "plt.show()"
      ],
      "metadata": {
        "colab": {
          "base_uri": "https://localhost:8080/",
          "height": 535
        },
        "id": "DxZ6fooWOfv6",
        "outputId": "500dd2f5-26c6-4b38-cc25-790a6c57173b"
      },
      "execution_count": null,
      "outputs": [
        {
          "output_type": "display_data",
          "data": {
            "text/plain": [
              "<Figure size 1200x1000 with 4 Axes>"
            ],
            "image/png": "[encoded data removed]"
          },
          "metadata": {}
        }
      ]
    },
    {
      "cell_type": "markdown",
      "source": [
        "### Evaluation"
      ],
      "metadata": {
        "id": "_8Tu9D3jOmX3"
      }
    },
    {
      "cell_type": "code",
      "source": [
        "# Evaluation\n",
        "test_target = []\n",
        "test_predict = []\n",
        "model.eval()\n",
        "with torch.no_grad():\n",
        "    for X_test, y_test in test_loader:\n",
        "        X_test, y_test = X_test.to(device), y_test.to(device)\n",
        "        outputs = model(X_test)\n",
        "\n",
        "        test_predict.append(outputs.cpu())\n",
        "        test_target.append(y_test.cpu())\n",
        "\n",
        "    test_predict = torch.cat(test_predict)\n",
        "    test_target = torch.cat(test_target)\n",
        "    test_acc = (torch.argmax(test_predict, 1) ==\n",
        "                test_target).sum().item()/len(test_target)\n",
        "\n",
        "    print(f\"Accuracy: {test_acc}\")\n",
        "    print(\"============================================================\")"
      ],
      "metadata": {
        "colab": {
          "base_uri": "https://localhost:8080/"
        },
        "id": "JavoJlydOoVZ",
        "outputId": "ffe8e945-e51c-4e33-c09a-1a87a6d1e85b"
      },
      "execution_count": null,
      "outputs": [
        {
          "output_type": "stream",
          "name": "stdout",
          "text": [
            "Accuracy: 0.1\n",
            "============================================================\n"
          ]
        }
      ]
    }
  ]
}